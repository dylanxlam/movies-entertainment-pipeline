{
 "cells": [
  {
   "cell_type": "markdown",
   "metadata": {},
   "source": [
    "### **Create BQ dataset for storing the raw data**"
   ]
  },
  {
   "cell_type": "code",
   "execution_count": 2,
   "metadata": {},
   "outputs": [
    {
     "name": "stdout",
     "output_type": "stream",
     "text": [
      "Created dataset dylanericsp25.movies_entertainment_raw\n"
     ]
    }
   ],
   "source": [
    "from google.cloud import bigquery\n",
    "import os\n",
    "\n",
    "project_id = \"dylanericsp25\"\n",
    "dataset = \"movies_entertainment_raw\"\n",
    "region = \"us-central1\"\n",
    "\n",
    "bq_client = bigquery.Client()\n",
    "\n",
    "dataset_id = bigquery.Dataset(f\"{project_id}.{dataset}\")\n",
    "dataset_id.location = region\n",
    "resp = bq_client.create_dataset(dataset_id, exists_ok=True)\n",
    "print(\"Created dataset {}.{}\".format(bq_client.project, resp.dataset_id))"
   ]
  },
  {
   "cell_type": "markdown",
   "metadata": {},
   "source": [
    "### **Common Functions**"
   ]
  },
  {
   "cell_type": "code",
   "execution_count": 3,
   "metadata": {},
   "outputs": [],
   "source": [
    "from google.cloud import bigquery\n",
    "\n",
    "project_id = \"dylanericsp25\"\n",
    "bucket = \"movies-entertainment\"\n",
    "parent_folder = \"initial-loads\"\n",
    "region = \"us-central1\"\n",
    "dataset = \"movies_entertainment_raw\"\n",
    "\n",
    "bq_client = bigquery.Client()\n",
    "\n",
    "def create_load_table_from_csv(folder, file_name, table, schema, delimiter=\",\", quote_character=\"\\\"\"):\n",
    "\n",
    "  uri = f\"gs://{bucket}/{parent_folder}/{folder}/{file_name}\"\n",
    "  table_id = f\"{project_id}.{dataset}.{table}\"\n",
    "\n",
    "  table = bigquery.Table(table_id, schema=schema)\n",
    "  table = bq_client.create_table(table, exists_ok=True)\n",
    "  print(\"Created table {}\".format(table.table_id))\n",
    "\n",
    "  # remove the data_source and load_time fields before loading the data,\n",
    "  # neither one is present in the csv\n",
    "  del schema[-1]\n",
    "  del schema[-1]\n",
    "  print(schema)\n",
    "\n",
    "  job_config = bigquery.LoadJobConfig(\n",
    "        schema=schema,\n",
    "        skip_leading_rows=1,\n",
    "        source_format=bigquery.SourceFormat.CSV,\n",
    "        # create_disposition=bigquery.WriteDisposition.WRITE_APPEND,\n",
    "        create_disposition=\"CREATE_IF_NEEDED\",  # <-- Corrected value\n",
    "        write_disposition=\"WRITE_EMPTY\",\n",
    "        field_delimiter=delimiter,\n",
    "        quote_character=quote_character,\n",
    "        allow_jagged_rows=True,\n",
    "        ignore_unknown_values=True,\n",
    "        max_bad_records=10 # <-- Allows skipping up to 10 bad rows\n",
    "      )\n",
    "\n",
    "  load_job = bq_client.load_table_from_uri(uri, table_id, job_config=job_config)\n",
    "  load_job.result()\n",
    "\n",
    "  destination_table = bq_client.get_table(table_id)\n",
    "  print(\"Loaded {} rows.\".format(destination_table.num_rows))\n",
    "\n",
    "\n",
    "def create_load_table_from_json(folder, file_name, table, schema):\n",
    "\n",
    "  table_id = f\"{project_id}.{dataset}.{table}\"\n",
    "\n",
    "  table = bigquery.Table(table_id, schema=schema)\n",
    "  table = bq_client.create_table(table, exists_ok=True)\n",
    "  print(\"Created table {}\".format(table.table_id))\n",
    "\n",
    "  # remove the data_source and load_time fields before loading the data,\n",
    "  # neither one is present in the json\n",
    "  del schema[-1]\n",
    "  del schema[-1]\n",
    "\n",
    "  #print(schema)\n",
    "\n",
    "  job_config = bigquery.LoadJobConfig(schema=schema,\n",
    "      source_format=bigquery.SourceFormat.NEWLINE_DELIMITED_JSON,\n",
    "      write_disposition = \"WRITE_EMPTY\"\n",
    "  )\n",
    "\n",
    "  uri = f\"gs://{bucket}/{parent_folder}/{folder}/{file_name}\"\n",
    "\n",
    "  load_job = bq_client.load_table_from_uri(\n",
    "      uri,\n",
    "      table_id,\n",
    "      location=region,\n",
    "      job_config=job_config,\n",
    "  )\n",
    "\n",
    "  load_job.result()\n",
    "\n",
    "  destination_table = bq_client.get_table(table_id)\n",
    "  print(\"Loaded {} rows.\".format(destination_table.num_rows))"
   ]
  },
  {
   "cell_type": "markdown",
   "metadata": {},
   "source": [
    "### **imbd-reviews**"
   ]
  },
  {
   "cell_type": "code",
   "execution_count": 4,
   "metadata": {},
   "outputs": [
    {
     "name": "stdout",
     "output_type": "stream",
     "text": [
      "Created table imdb_reviews\n",
      "[SchemaField('filename', 'STRING', 'REQUIRED', None, None, (), None), SchemaField('movie_name', 'STRING', 'REQUIRED', None, None, (), None), SchemaField('sentiment', 'STRING', 'REQUIRED', None, None, (), None), SchemaField('key_themes', 'STRING', 'REQUIRED', None, None, (), None), SchemaField('named_entities', 'STRING', 'REQUIRED', None, None, (), None), SchemaField('emotional_tone', 'STRING', 'NULLABLE', None, None, (), None), SchemaField('star_rating', 'STRING', 'NULLABLE', None, None, (), None)]\n",
      "Loaded 1257 rows.\n"
     ]
    }
   ],
   "source": [
    "folder = \"imdb-reviews/out\"\n",
    "file_name = \"all_imdb_reviews.csv\"\n",
    "table = \"imdb_reviews\"\n",
    "delimiter = \",\"\n",
    "\n",
    "schema = [\n",
    "  bigquery.SchemaField(\"filename\", \"STRING\", mode=\"REQUIRED\"),\n",
    "  bigquery.SchemaField(\"movie_name\", \"STRING\", mode=\"REQUIRED\"),\n",
    "  bigquery.SchemaField(\"sentiment\", \"STRING\", mode=\"REQUIRED\"),\n",
    "  bigquery.SchemaField(\"key_themes\", \"STRING\", mode=\"REQUIRED\"),\n",
    "  bigquery.SchemaField(\"named_entities\", \"STRING\", mode=\"REQUIRED\"),\n",
    "  bigquery.SchemaField(\"emotional_tone\", \"STRING\", mode=\"NULLABLE\"),\n",
    "  bigquery.SchemaField(\"star_rating\", \"STRING\", mode=\"NULLABLE\"),\n",
    "  bigquery.SchemaField(\"_data_source\", \"STRING\", mode=\"REQUIRED\", default_value_expression=\"'imdb-reviews'\"),\n",
    "  bigquery.SchemaField(\"_load_time\", \"TIMESTAMP\", mode=\"REQUIRED\", default_value_expression=\"CURRENT_TIMESTAMP\"),\n",
    "]\n",
    "\n",
    "create_load_table_from_csv(folder, file_name, table, schema, delimiter)"
   ]
  },
  {
   "cell_type": "markdown",
   "metadata": {},
   "source": [
    "### **netflix_movies_and_tvshows**"
   ]
  },
  {
   "cell_type": "code",
   "execution_count": 22,
   "metadata": {},
   "outputs": [
    {
     "name": "stdout",
     "output_type": "stream",
     "text": [
      "Created table netflix_movies_and_tvshows\n",
      "[SchemaField('show_id', 'STRING', 'REQUIRED', None, None, (), None), SchemaField('type', 'STRING', 'NULLABLE', None, None, (), None), SchemaField('title', 'STRING', 'REQUIRED', None, None, (), None), SchemaField('director', 'STRING', 'NULLABLE', None, None, (), None), SchemaField('cast', 'STRING', 'NULLABLE', None, None, (), None), SchemaField('country', 'STRING', 'NULLABLE', None, None, (), None), SchemaField('date_added', 'STRING', 'NULLABLE', None, None, (), None), SchemaField('release_year', 'STRING', 'NULLABLE', None, None, (), None), SchemaField('rating', 'STRING', 'NULLABLE', None, None, (), None), SchemaField('duration', 'STRING', 'NULLABLE', None, None, (), None)]\n",
      "Loaded 8807 rows.\n"
     ]
    }
   ],
   "source": [
    "folder = \"netflix-movies-and-tv-shows\"\n",
    "file_name = \"netflix_titles.csv\"\n",
    "table = \"netflix_movies_and_tvshows\"\n",
    "delimiter = \",\"\n",
    "\n",
    "schema = [\n",
    "    bigquery.SchemaField(\"show_id\", \"STRING\", mode=\"REQUIRED\"),\n",
    "    bigquery.SchemaField(\"type\", \"STRING\", mode=\"NULLABLE\"),\n",
    "    bigquery.SchemaField(\"title\", \"STRING\", mode=\"REQUIRED\"),\n",
    "    bigquery.SchemaField(\"director\", \"STRING\", mode=\"NULLABLE\"),\n",
    "    bigquery.SchemaField(\"cast\", \"STRING\", mode=\"NULLABLE\"),\n",
    "    bigquery.SchemaField(\"country\", \"STRING\", mode=\"NULLABLE\"),\n",
    "    bigquery.SchemaField(\"date_added\", \"STRING\", mode=\"NULLABLE\"),\n",
    "    bigquery.SchemaField(\"release_year\", \"STRING\", mode=\"NULLABLE\"),\n",
    "    bigquery.SchemaField(\"rating\", \"STRING\", mode=\"NULLABLE\"),\n",
    "    bigquery.SchemaField(\"duration\", \"STRING\", mode=\"NULLABLE\"),\n",
    "    bigquery.SchemaField(\"_data_source\", \"STRING\", mode=\"REQUIRED\", default_value_expression=\"'netflix-movies-and-tv-shows'\"),\n",
    "    bigquery.SchemaField(\"_load_time\", \"TIMESTAMP\", mode=\"REQUIRED\", default_value_expression=\"CURRENT_TIMESTAMP\"),\n",
    "]\n",
    "\n",
    "create_load_table_from_csv(folder, file_name, table, schema, delimiter)"
   ]
  },
  {
   "cell_type": "markdown",
   "metadata": {},
   "source": [
    "### **movies_metadata**"
   ]
  },
  {
   "cell_type": "code",
   "execution_count": 29,
   "metadata": {},
   "outputs": [
    {
     "name": "stdout",
     "output_type": "stream",
     "text": [
      "Created table movies_metadata\n",
      "[SchemaField('adult', 'STRING', 'REQUIRED', None, None, (), None), SchemaField('budget', 'INTEGER', 'REQUIRED', None, None, (), None), SchemaField('genres', 'STRING', 'NULLABLE', None, None, (), None), SchemaField('id', 'INTEGER', 'REQUIRED', None, None, (), None), SchemaField('imdb_id', 'STRING', 'REQUIRED', None, None, (), None), SchemaField('original_language', 'STRING', 'REQUIRED', None, None, (), None), SchemaField('original_title', 'STRING', 'REQUIRED', None, None, (), None), SchemaField('overview', 'STRING', 'NULLABLE', None, None, (), None)]\n",
      "Loaded 45463 rows.\n"
     ]
    }
   ],
   "source": [
    "folder = \"the-movies-dataset/Movies Dataset\"\n",
    "file_name = \"movies_metadata.csv\"\n",
    "table = \"movies_metadata\"\n",
    "delimiter = \",\"\n",
    "\n",
    "schema = [\n",
    "    bigquery.SchemaField(\"adult\", \"STRING\", mode=\"REQUIRED\"),\n",
    "    bigquery.SchemaField(\"budget\", \"INTEGER\", mode=\"REQUIRED\"),\n",
    "    bigquery.SchemaField(\"genres\", \"STRING\", mode=\"NULLABLE\"),\n",
    "    bigquery.SchemaField(\"id\", \"INTEGER\", mode=\"REQUIRED\"),  \n",
    "    bigquery.SchemaField(\"imdb_id\", \"STRING\", mode=\"REQUIRED\"),  \n",
    "    bigquery.SchemaField(\"original_language\", \"STRING\", mode=\"REQUIRED\"),\n",
    "    bigquery.SchemaField(\"original_title\", \"STRING\", mode=\"REQUIRED\"),\n",
    "    bigquery.SchemaField(\"overview\", \"STRING\", mode=\"NULLABLE\"),\n",
    "    bigquery.SchemaField(\"_data_source\", \"STRING\", mode=\"REQUIRED\", default_value_expression=\"'the-movies-dataset'\"),\n",
    "    bigquery.SchemaField(\"_load_time\", \"TIMESTAMP\", mode=\"REQUIRED\", default_value_expression=\"CURRENT_TIMESTAMP\"),\n",
    "]\n",
    "\n",
    "create_load_table_from_csv(folder, file_name, table, schema, delimiter)\n"
   ]
  },
  {
   "cell_type": "markdown",
   "metadata": {},
   "source": [
    "### **box_office_gross**"
   ]
  },
  {
   "cell_type": "code",
   "execution_count": 36,
   "metadata": {},
   "outputs": [
    {
     "name": "stdout",
     "output_type": "stream",
     "text": [
      "Created table box_office_gross\n",
      "[SchemaField('brand', 'STRING', 'REQUIRED', None, None, (), None), SchemaField('total', 'INTEGER', 'NULLABLE', None, None, (), None), SchemaField('releases', 'INTEGER', 'NULLABLE', None, None, (), None), SchemaField('number_1_release', 'STRING', 'NULLABLE', None, None, (), None), SchemaField('lifetime_gross', 'INTEGER', 'NULLABLE', None, None, (), None)]\n",
      "Loaded 45 rows.\n"
     ]
    }
   ],
   "source": [
    "folder = \"box-office-gross/Top Box Office Revenue Data\"\n",
    "file_name = \"bomojobrandindices.csv\"\n",
    "table = \"box_office_gross\"\n",
    "delimiter = \"\\t\"\n",
    "\n",
    "schema = [\n",
    "    bigquery.SchemaField(\"brand\", \"STRING\", mode=\"REQUIRED\"),\n",
    "    bigquery.SchemaField(\"total\", \"INTEGER\", mode=\"NULLABLE\"),\n",
    "    bigquery.SchemaField(\"releases\", \"INTEGER\", mode=\"NULLABLE\"),\n",
    "    bigquery.SchemaField(\"number_1_release\", \"STRING\", mode=\"NULLABLE\"),\n",
    "    bigquery.SchemaField(\"lifetime_gross\", \"INTEGER\", mode=\"NULLABLE\"),\n",
    "    bigquery.SchemaField(\"_data_source\", \"STRING\", mode=\"REQUIRED\", default_value_expression=\"'box-office-gross'\"),\n",
    "    bigquery.SchemaField(\"_load_time\", \"TIMESTAMP\", mode=\"REQUIRED\", default_value_expression=\"CURRENT_TIMESTAMP\"),\n",
    "]\n",
    "\n",
    "\n",
    "create_load_table_from_csv(folder, file_name, table, schema, delimiter)#"
   ]
  },
  {
   "cell_type": "markdown",
   "metadata": {},
   "source": [
    "---\n",
    "---\n",
    "---\n",
    "---\n",
    "---\n",
    "---\n",
    "---\n",
    "---\n",
    "---"
   ]
  }
 ],
 "metadata": {
  "kernelspec": {
   "display_name": "myenv",
   "language": "python",
   "name": "python3"
  },
  "language_info": {
   "codemirror_mode": {
    "name": "ipython",
    "version": 3
   },
   "file_extension": ".py",
   "mimetype": "text/x-python",
   "name": "python",
   "nbconvert_exporter": "python",
   "pygments_lexer": "ipython3",
   "version": "3.8.17"
  },
  "orig_nbformat": 4
 },
 "nbformat": 4,
 "nbformat_minor": 2
}
