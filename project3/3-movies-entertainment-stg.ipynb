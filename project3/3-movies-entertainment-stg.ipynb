{
 "cells": [
  {
   "cell_type": "markdown",
   "metadata": {},
   "source": [
    "### **Create the staging layer for the Air Travel warehouse**\n"
   ]
  },
  {
   "cell_type": "code",
   "execution_count": 2,
   "metadata": {},
   "outputs": [
    {
     "name": "stdout",
     "output_type": "stream",
     "text": [
      "Created dataset dylanericsp25.movies_entertainment_stg\n"
     ]
    }
   ],
   "source": [
    "from google.cloud import bigquery\n",
    "\n",
    "project_id = \"dylanericsp25\"\n",
    "dataset = \"movies_entertainment_stg\"\n",
    "region = \"us-central1\"\n",
    "\n",
    "bq_client = bigquery.Client()\n",
    "\n",
    "dataset_id = bigquery.Dataset(f\"{project_id}.{dataset}\")\n",
    "dataset_id.location = region\n",
    "resp = bq_client.create_dataset(dataset_id, exists_ok=True)\n",
    "print(\"Created dataset {}.{}\".format(bq_client.project, resp.dataset_id))"
   ]
  },
  {
   "cell_type": "code",
   "execution_count": 3,
   "metadata": {},
   "outputs": [
    {
     "name": "stderr",
     "output_type": "stream",
     "text": [
      "/Users/dylanlam/miniconda3/lib/python3.11/site-packages/google/cloud/bigquery/__init__.py:237: FutureWarning: %load_ext google.cloud.bigquery is deprecated. Install bigquery-magics package and use `%load_ext bigquery_magics`, instead.\n",
      "  warnings.warn(\n"
     ]
    }
   ],
   "source": [
    "%load_ext google.cloud.bigquery\n"
   ]
  },
  {
   "cell_type": "markdown",
   "metadata": {},
   "source": [
    "## **Criteria 5**"
   ]
  },
  {
   "cell_type": "markdown",
   "metadata": {},
   "source": [
    "#### **date_added to datetime (netflix_movies_tvshows table)**"
   ]
  },
  {
   "cell_type": "code",
   "execution_count": 13,
   "metadata": {},
   "outputs": [
    {
     "data": {
      "application/vnd.jupyter.widget-view+json": {
       "model_id": "ebe3997210cc4eef9d918e75dfb56fef",
       "version_major": 2,
       "version_minor": 0
      },
      "text/plain": [
       "Query is running:   0%|          |"
      ]
     },
     "metadata": {},
     "output_type": "display_data"
    },
    {
     "data": {
      "application/vnd.jupyter.widget-view+json": {
       "model_id": "83b339e2d35543c7aa00e43d9deed44f",
       "version_major": 2,
       "version_minor": 0
      },
      "text/plain": [
       "Downloading:   0%|          |"
      ]
     },
     "metadata": {},
     "output_type": "display_data"
    },
    {
     "data": {
      "text/html": [
       "<div>\n",
       "<style scoped>\n",
       "    .dataframe tbody tr th:only-of-type {\n",
       "        vertical-align: middle;\n",
       "    }\n",
       "\n",
       "    .dataframe tbody tr th {\n",
       "        vertical-align: top;\n",
       "    }\n",
       "\n",
       "    .dataframe thead th {\n",
       "        text-align: right;\n",
       "    }\n",
       "</style>\n",
       "<table border=\"1\" class=\"dataframe\">\n",
       "  <thead>\n",
       "    <tr style=\"text-align: right;\">\n",
       "      <th></th>\n",
       "      <th>orig_date_added</th>\n",
       "      <th>new_date_added</th>\n",
       "    </tr>\n",
       "  </thead>\n",
       "  <tbody>\n",
       "    <tr>\n",
       "      <th>0</th>\n",
       "      <td>1-Dec-16</td>\n",
       "      <td>NaT</td>\n",
       "    </tr>\n",
       "    <tr>\n",
       "      <th>1</th>\n",
       "      <td>1-Feb-18</td>\n",
       "      <td>NaT</td>\n",
       "    </tr>\n",
       "    <tr>\n",
       "      <th>2</th>\n",
       "      <td>1-Mar-17</td>\n",
       "      <td>NaT</td>\n",
       "    </tr>\n",
       "    <tr>\n",
       "      <th>3</th>\n",
       "      <td>26-Jan-17</td>\n",
       "      <td>NaT</td>\n",
       "    </tr>\n",
       "    <tr>\n",
       "      <th>4</th>\n",
       "      <td>15-Aug-16</td>\n",
       "      <td>NaT</td>\n",
       "    </tr>\n",
       "  </tbody>\n",
       "</table>\n",
       "</div>"
      ],
      "text/plain": [
       "  orig_date_added new_date_added\n",
       "0        1-Dec-16            NaT\n",
       "1        1-Feb-18            NaT\n",
       "2        1-Mar-17            NaT\n",
       "3       26-Jan-17            NaT\n",
       "4       15-Aug-16            NaT"
      ]
     },
     "execution_count": 13,
     "metadata": {},
     "output_type": "execute_result"
    }
   ],
   "source": [
    "%%bigquery\n",
    "SELECT date_added AS orig_date_added, safe_cast(date_added as DATE) as new_date_added\n",
    "FROM movies_entertainment_raw.netflix_movies_and_tvshows\n",
    "WHERE date_added IS NOT NULL\n",
    "LIMIT 5"
   ]
  },
  {
   "cell_type": "code",
   "execution_count": 32,
   "metadata": {},
   "outputs": [
    {
     "data": {
      "application/vnd.jupyter.widget-view+json": {
       "model_id": "5cc0078c61034d41a6def2939bedfabc",
       "version_major": 2,
       "version_minor": 0
      },
      "text/plain": [
       "Query is running:   0%|          |"
      ]
     },
     "metadata": {},
     "output_type": "display_data"
    },
    {
     "data": {
      "application/vnd.jupyter.widget-view+json": {
       "model_id": "0314bba7ab154b409e24dbdf2e798fb4",
       "version_major": 2,
       "version_minor": 0
      },
      "text/plain": [
       "Downloading:   0%|          |"
      ]
     },
     "metadata": {},
     "output_type": "display_data"
    },
    {
     "data": {
      "text/html": [
       "<div>\n",
       "<style scoped>\n",
       "    .dataframe tbody tr th:only-of-type {\n",
       "        vertical-align: middle;\n",
       "    }\n",
       "\n",
       "    .dataframe tbody tr th {\n",
       "        vertical-align: top;\n",
       "    }\n",
       "\n",
       "    .dataframe thead th {\n",
       "        text-align: right;\n",
       "    }\n",
       "</style>\n",
       "<table border=\"1\" class=\"dataframe\">\n",
       "  <thead>\n",
       "    <tr style=\"text-align: right;\">\n",
       "      <th></th>\n",
       "      <th>orig_date_added</th>\n",
       "      <th>new_date_added</th>\n",
       "    </tr>\n",
       "  </thead>\n",
       "  <tbody>\n",
       "    <tr>\n",
       "      <th>0</th>\n",
       "      <td>1-Dec-16</td>\n",
       "      <td>2016-12-01</td>\n",
       "    </tr>\n",
       "    <tr>\n",
       "      <th>1</th>\n",
       "      <td>1-Feb-18</td>\n",
       "      <td>2018-02-01</td>\n",
       "    </tr>\n",
       "    <tr>\n",
       "      <th>2</th>\n",
       "      <td>1-Mar-17</td>\n",
       "      <td>2017-03-01</td>\n",
       "    </tr>\n",
       "    <tr>\n",
       "      <th>3</th>\n",
       "      <td>26-Jan-17</td>\n",
       "      <td>2017-01-26</td>\n",
       "    </tr>\n",
       "    <tr>\n",
       "      <th>4</th>\n",
       "      <td>15-Aug-16</td>\n",
       "      <td>2016-08-15</td>\n",
       "    </tr>\n",
       "  </tbody>\n",
       "</table>\n",
       "</div>"
      ],
      "text/plain": [
       "  orig_date_added new_date_added\n",
       "0        1-Dec-16     2016-12-01\n",
       "1        1-Feb-18     2018-02-01\n",
       "2        1-Mar-17     2017-03-01\n",
       "3       26-Jan-17     2017-01-26\n",
       "4       15-Aug-16     2016-08-15"
      ]
     },
     "execution_count": 32,
     "metadata": {},
     "output_type": "execute_result"
    }
   ],
   "source": [
    "%%bigquery\n",
    "SELECT \n",
    "    date_added AS orig_date_added,\n",
    "    PARSE_DATE('%d-%b-%y', date_added) AS new_date_added\n",
    "FROM movies_entertainment_raw.netflix_movies_and_tvshows\n",
    "WHERE date_added IS NOT NULL\n",
    "LIMIT 5\n"
   ]
  },
  {
   "cell_type": "markdown",
   "metadata": {},
   "source": [
    "#### **putting it all togerher**"
   ]
  },
  {
   "cell_type": "code",
   "execution_count": 5,
   "metadata": {},
   "outputs": [
    {
     "data": {
      "application/vnd.jupyter.widget-view+json": {
       "model_id": "768ccb02bcda4b3a9817fe800646b77d",
       "version_major": 2,
       "version_minor": 0
      },
      "text/plain": [
       "Query is running:   0%|          |"
      ]
     },
     "metadata": {},
     "output_type": "display_data"
    },
    {
     "data": {
      "application/vnd.jupyter.widget-view+json": {
       "model_id": "2685b504f7aa4112a451824250d574ad",
       "version_major": 2,
       "version_minor": 0
      },
      "text/plain": [
       "Downloading:   0%|          |"
      ]
     },
     "metadata": {},
     "output_type": "display_data"
    },
    {
     "data": {
      "text/html": [
       "<div>\n",
       "<style scoped>\n",
       "    .dataframe tbody tr th:only-of-type {\n",
       "        vertical-align: middle;\n",
       "    }\n",
       "\n",
       "    .dataframe tbody tr th {\n",
       "        vertical-align: top;\n",
       "    }\n",
       "\n",
       "    .dataframe thead th {\n",
       "        text-align: right;\n",
       "    }\n",
       "</style>\n",
       "<table border=\"1\" class=\"dataframe\">\n",
       "  <thead>\n",
       "    <tr style=\"text-align: right;\">\n",
       "      <th></th>\n",
       "      <th>show_id</th>\n",
       "      <th>type</th>\n",
       "      <th>title</th>\n",
       "      <th>director</th>\n",
       "      <th>cast</th>\n",
       "      <th>country</th>\n",
       "      <th>new_date_added</th>\n",
       "      <th>release_year</th>\n",
       "      <th>rating</th>\n",
       "      <th>duration</th>\n",
       "      <th>_data_source</th>\n",
       "      <th>_load_time</th>\n",
       "    </tr>\n",
       "  </thead>\n",
       "  <tbody>\n",
       "    <tr>\n",
       "      <th>0</th>\n",
       "      <td>s6828</td>\n",
       "      <td>TV Show</td>\n",
       "      <td>Gargantia on the Verdurous Planet</td>\n",
       "      <td>None</td>\n",
       "      <td>Kaito Ishikawa, Hisako Kanemoto, Ai Kayano, Ka...</td>\n",
       "      <td>Japan</td>\n",
       "      <td>2016-12-01</td>\n",
       "      <td>2013</td>\n",
       "      <td>None</td>\n",
       "      <td>1 Season</td>\n",
       "      <td>netflix-movies-and-tv-shows</td>\n",
       "      <td>2025-02-05 03:16:45.466701+00:00</td>\n",
       "    </tr>\n",
       "    <tr>\n",
       "      <th>1</th>\n",
       "      <td>s7313</td>\n",
       "      <td>TV Show</td>\n",
       "      <td>Little Lunch</td>\n",
       "      <td>None</td>\n",
       "      <td>Flynn Curry, Olivia Deeble, Madison Lu, Oisín ...</td>\n",
       "      <td>Australia</td>\n",
       "      <td>2018-02-01</td>\n",
       "      <td>2015</td>\n",
       "      <td>None</td>\n",
       "      <td>1 Season</td>\n",
       "      <td>netflix-movies-and-tv-shows</td>\n",
       "      <td>2025-02-05 03:16:45.466701+00:00</td>\n",
       "    </tr>\n",
       "    <tr>\n",
       "      <th>2</th>\n",
       "      <td>s7538</td>\n",
       "      <td>Movie</td>\n",
       "      <td>My Honor Was Loyalty</td>\n",
       "      <td>Alessandro Pepe</td>\n",
       "      <td>Leone Frisa, Paolo Vaccarino, Francesco Miglio...</td>\n",
       "      <td>Italy</td>\n",
       "      <td>2017-03-01</td>\n",
       "      <td>2015</td>\n",
       "      <td>None</td>\n",
       "      <td>115 min</td>\n",
       "      <td>netflix-movies-and-tv-shows</td>\n",
       "      <td>2025-02-05 03:16:45.466701+00:00</td>\n",
       "    </tr>\n",
       "    <tr>\n",
       "      <th>3</th>\n",
       "      <td>s5990</td>\n",
       "      <td>Movie</td>\n",
       "      <td>13TH: A Conversation with Oprah Winfrey &amp; Ava ...</td>\n",
       "      <td>None</td>\n",
       "      <td>Oprah Winfrey, Ava DuVernay</td>\n",
       "      <td>None</td>\n",
       "      <td>2017-01-26</td>\n",
       "      <td>2017</td>\n",
       "      <td>None</td>\n",
       "      <td>37 min</td>\n",
       "      <td>netflix-movies-and-tv-shows</td>\n",
       "      <td>2025-02-05 03:16:45.466701+00:00</td>\n",
       "    </tr>\n",
       "    <tr>\n",
       "      <th>4</th>\n",
       "      <td>s5814</td>\n",
       "      <td>Movie</td>\n",
       "      <td>Louis C.K.: Live at the Comedy Store</td>\n",
       "      <td>Louis C.K.</td>\n",
       "      <td>Louis C.K.</td>\n",
       "      <td>United States</td>\n",
       "      <td>2016-08-15</td>\n",
       "      <td>2015</td>\n",
       "      <td>66 min</td>\n",
       "      <td>None</td>\n",
       "      <td>netflix-movies-and-tv-shows</td>\n",
       "      <td>2025-02-05 03:16:45.466701+00:00</td>\n",
       "    </tr>\n",
       "  </tbody>\n",
       "</table>\n",
       "</div>"
      ],
      "text/plain": [
       "  show_id     type                                              title  \\\n",
       "0   s6828  TV Show                  Gargantia on the Verdurous Planet   \n",
       "1   s7313  TV Show                                       Little Lunch   \n",
       "2   s7538    Movie                               My Honor Was Loyalty   \n",
       "3   s5990    Movie  13TH: A Conversation with Oprah Winfrey & Ava ...   \n",
       "4   s5814    Movie               Louis C.K.: Live at the Comedy Store   \n",
       "\n",
       "          director                                               cast  \\\n",
       "0             None  Kaito Ishikawa, Hisako Kanemoto, Ai Kayano, Ka...   \n",
       "1             None  Flynn Curry, Olivia Deeble, Madison Lu, Oisín ...   \n",
       "2  Alessandro Pepe  Leone Frisa, Paolo Vaccarino, Francesco Miglio...   \n",
       "3             None                        Oprah Winfrey, Ava DuVernay   \n",
       "4       Louis C.K.                                         Louis C.K.   \n",
       "\n",
       "         country new_date_added release_year  rating  duration  \\\n",
       "0          Japan     2016-12-01         2013    None  1 Season   \n",
       "1      Australia     2018-02-01         2015    None  1 Season   \n",
       "2          Italy     2017-03-01         2015    None   115 min   \n",
       "3           None     2017-01-26         2017    None    37 min   \n",
       "4  United States     2016-08-15         2015  66 min      None   \n",
       "\n",
       "                  _data_source                       _load_time  \n",
       "0  netflix-movies-and-tv-shows 2025-02-05 03:16:45.466701+00:00  \n",
       "1  netflix-movies-and-tv-shows 2025-02-05 03:16:45.466701+00:00  \n",
       "2  netflix-movies-and-tv-shows 2025-02-05 03:16:45.466701+00:00  \n",
       "3  netflix-movies-and-tv-shows 2025-02-05 03:16:45.466701+00:00  \n",
       "4  netflix-movies-and-tv-shows 2025-02-05 03:16:45.466701+00:00  "
      ]
     },
     "execution_count": 5,
     "metadata": {},
     "output_type": "execute_result"
    }
   ],
   "source": [
    "%%bigquery\n",
    "SELECT \n",
    "    show_id,\n",
    "    type,\n",
    "    title,\n",
    "    director,\n",
    "    `cast`,\n",
    "    country,\n",
    "    PARSE_DATE('%d-%b-%y', date_added) AS new_date_added,\n",
    "    release_year,\n",
    "    rating,\n",
    "    duration,\n",
    "    _data_source,\n",
    "    _load_time\n",
    "FROM movies_entertainment_raw.netflix_movies_and_tvshows\n",
    "LIMIT 5\n",
    "\n"
   ]
  },
  {
   "cell_type": "code",
   "execution_count": 59,
   "metadata": {},
   "outputs": [
    {
     "data": {
      "application/vnd.jupyter.widget-view+json": {
       "model_id": "c400283ead154b5b943839c97ec5ca1e",
       "version_major": 2,
       "version_minor": 0
      },
      "text/plain": [
       "Query is running:   0%|          |"
      ]
     },
     "metadata": {},
     "output_type": "display_data"
    },
    {
     "data": {
      "text/html": [
       "<div>\n",
       "<style scoped>\n",
       "    .dataframe tbody tr th:only-of-type {\n",
       "        vertical-align: middle;\n",
       "    }\n",
       "\n",
       "    .dataframe tbody tr th {\n",
       "        vertical-align: top;\n",
       "    }\n",
       "\n",
       "    .dataframe thead th {\n",
       "        text-align: right;\n",
       "    }\n",
       "</style>\n",
       "<table border=\"1\" class=\"dataframe\">\n",
       "  <thead>\n",
       "    <tr style=\"text-align: right;\">\n",
       "      <th></th>\n",
       "    </tr>\n",
       "  </thead>\n",
       "  <tbody>\n",
       "  </tbody>\n",
       "</table>\n",
       "</div>"
      ],
      "text/plain": [
       "Empty DataFrame\n",
       "Columns: []\n",
       "Index: []"
      ]
     },
     "execution_count": 59,
     "metadata": {},
     "output_type": "execute_result"
    }
   ],
   "source": [
    "%%bigquery\n",
    "CREATE or REPLACE TABLE movies_entertainment_stg.netflix_movies_and_tvshows as\n",
    "    SELECT \n",
    "        show_id,\n",
    "        type,\n",
    "        title,\n",
    "        director,\n",
    "        `cast`,\n",
    "        country,\n",
    "        safe.PARSE_DATE('%d-%b-%y', date_added) AS date_added,\n",
    "        release_year,\n",
    "        rating,\n",
    "        duration,\n",
    "        _data_source,\n",
    "        _load_time\n",
    "    FROM movies_entertainment_raw.netflix_movies_and_tvshows\n"
   ]
  },
  {
   "cell_type": "markdown",
   "metadata": {},
   "source": [
    "#### **adult to boolean (movies_metadata table)**"
   ]
  },
  {
   "cell_type": "code",
   "execution_count": 55,
   "metadata": {},
   "outputs": [
    {
     "data": {
      "application/vnd.jupyter.widget-view+json": {
       "model_id": "f89ce12ecd8442778da1294573b57b64",
       "version_major": 2,
       "version_minor": 0
      },
      "text/plain": [
       "Query is running:   0%|          |"
      ]
     },
     "metadata": {},
     "output_type": "display_data"
    },
    {
     "data": {
      "application/vnd.jupyter.widget-view+json": {
       "model_id": "c723b436333a49969ef600d48b4e128d",
       "version_major": 2,
       "version_minor": 0
      },
      "text/plain": [
       "Downloading:   0%|          |"
      ]
     },
     "metadata": {},
     "output_type": "display_data"
    },
    {
     "data": {
      "text/html": [
       "<div>\n",
       "<style scoped>\n",
       "    .dataframe tbody tr th:only-of-type {\n",
       "        vertical-align: middle;\n",
       "    }\n",
       "\n",
       "    .dataframe tbody tr th {\n",
       "        vertical-align: top;\n",
       "    }\n",
       "\n",
       "    .dataframe thead th {\n",
       "        text-align: right;\n",
       "    }\n",
       "</style>\n",
       "<table border=\"1\" class=\"dataframe\">\n",
       "  <thead>\n",
       "    <tr style=\"text-align: right;\">\n",
       "      <th></th>\n",
       "      <th>orig_adult</th>\n",
       "      <th>new_adult</th>\n",
       "    </tr>\n",
       "  </thead>\n",
       "  <tbody>\n",
       "    <tr>\n",
       "      <th>0</th>\n",
       "      <td>FALSE</td>\n",
       "      <td>False</td>\n",
       "    </tr>\n",
       "    <tr>\n",
       "      <th>1</th>\n",
       "      <td>FALSE</td>\n",
       "      <td>False</td>\n",
       "    </tr>\n",
       "    <tr>\n",
       "      <th>2</th>\n",
       "      <td>FALSE</td>\n",
       "      <td>False</td>\n",
       "    </tr>\n",
       "    <tr>\n",
       "      <th>3</th>\n",
       "      <td>FALSE</td>\n",
       "      <td>False</td>\n",
       "    </tr>\n",
       "    <tr>\n",
       "      <th>4</th>\n",
       "      <td>FALSE</td>\n",
       "      <td>False</td>\n",
       "    </tr>\n",
       "  </tbody>\n",
       "</table>\n",
       "</div>"
      ],
      "text/plain": [
       "  orig_adult  new_adult\n",
       "0      FALSE      False\n",
       "1      FALSE      False\n",
       "2      FALSE      False\n",
       "3      FALSE      False\n",
       "4      FALSE      False"
      ]
     },
     "execution_count": 55,
     "metadata": {},
     "output_type": "execute_result"
    }
   ],
   "source": [
    "%%bigquery\n",
    "SELECT adult AS orig_adult, safe_cast(adult as BOOLEAN) as new_adult\n",
    "FROM movies_entertainment_raw.movies_metadata\n",
    "LIMIT 5"
   ]
  },
  {
   "cell_type": "code",
   "execution_count": 56,
   "metadata": {},
   "outputs": [
    {
     "data": {
      "application/vnd.jupyter.widget-view+json": {
       "model_id": "8369244a99774988b9b0f604d57fb969",
       "version_major": 2,
       "version_minor": 0
      },
      "text/plain": [
       "Query is running:   0%|          |"
      ]
     },
     "metadata": {},
     "output_type": "display_data"
    },
    {
     "data": {
      "application/vnd.jupyter.widget-view+json": {
       "model_id": "b5a2313467a24581be88ff09ab1194c2",
       "version_major": 2,
       "version_minor": 0
      },
      "text/plain": [
       "Downloading:   0%|          |"
      ]
     },
     "metadata": {},
     "output_type": "display_data"
    },
    {
     "data": {
      "text/html": [
       "<div>\n",
       "<style scoped>\n",
       "    .dataframe tbody tr th:only-of-type {\n",
       "        vertical-align: middle;\n",
       "    }\n",
       "\n",
       "    .dataframe tbody tr th {\n",
       "        vertical-align: top;\n",
       "    }\n",
       "\n",
       "    .dataframe thead th {\n",
       "        text-align: right;\n",
       "    }\n",
       "</style>\n",
       "<table border=\"1\" class=\"dataframe\">\n",
       "  <thead>\n",
       "    <tr style=\"text-align: right;\">\n",
       "      <th></th>\n",
       "      <th>f0_</th>\n",
       "      <th>budget</th>\n",
       "      <th>genres</th>\n",
       "      <th>id</th>\n",
       "      <th>imdb_id</th>\n",
       "      <th>original_language</th>\n",
       "      <th>original_title</th>\n",
       "      <th>overview</th>\n",
       "      <th>_data_source</th>\n",
       "      <th>_load_time</th>\n",
       "    </tr>\n",
       "  </thead>\n",
       "  <tbody>\n",
       "    <tr>\n",
       "      <th>0</th>\n",
       "      <td>False</td>\n",
       "      <td>0</td>\n",
       "      <td>None</td>\n",
       "      <td>381525</td>\n",
       "      <td>tt5376720</td>\n",
       "      <td>Unknown</td>\n",
       "      <td>WiNWiN</td>\n",
       "      <td>American investment fund buys Austrian compani...</td>\n",
       "      <td>the-movies-dataset</td>\n",
       "      <td>2025-02-06 22:48:24.489026+00:00</td>\n",
       "    </tr>\n",
       "    <tr>\n",
       "      <th>1</th>\n",
       "      <td>False</td>\n",
       "      <td>0</td>\n",
       "      <td>Action, War, Drama, History</td>\n",
       "      <td>104473</td>\n",
       "      <td>tt0223958</td>\n",
       "      <td>Unknown</td>\n",
       "      <td>La prise de Tournavos</td>\n",
       "      <td>Three military men, seen inside a fortificatio...</td>\n",
       "      <td>the-movies-dataset</td>\n",
       "      <td>2025-02-06 22:48:24.489026+00:00</td>\n",
       "    </tr>\n",
       "    <tr>\n",
       "      <th>2</th>\n",
       "      <td>False</td>\n",
       "      <td>0</td>\n",
       "      <td>Animation</td>\n",
       "      <td>257095</td>\n",
       "      <td>tt0225145</td>\n",
       "      <td>Unknown</td>\n",
       "      <td>Bajaja</td>\n",
       "      <td>The first fairy tale transformed into a full-l...</td>\n",
       "      <td>the-movies-dataset</td>\n",
       "      <td>2025-02-06 22:48:24.489026+00:00</td>\n",
       "    </tr>\n",
       "    <tr>\n",
       "      <th>3</th>\n",
       "      <td>False</td>\n",
       "      <td>0</td>\n",
       "      <td>Animation, Documentary</td>\n",
       "      <td>381096</td>\n",
       "      <td>tt5333518</td>\n",
       "      <td>Unknown</td>\n",
       "      <td>Garn</td>\n",
       "      <td>The traditional crafts of crochet and knitting...</td>\n",
       "      <td>the-movies-dataset</td>\n",
       "      <td>2025-02-06 22:48:24.489026+00:00</td>\n",
       "    </tr>\n",
       "    <tr>\n",
       "      <th>4</th>\n",
       "      <td>False</td>\n",
       "      <td>0</td>\n",
       "      <td>Comedy</td>\n",
       "      <td>147050</td>\n",
       "      <td>tt0122580</td>\n",
       "      <td>Unknown</td>\n",
       "      <td>Lambchops</td>\n",
       "      <td>\"George and Gracie enter an elegant drawing ro...</td>\n",
       "      <td>the-movies-dataset</td>\n",
       "      <td>2025-02-06 22:48:24.489026+00:00</td>\n",
       "    </tr>\n",
       "  </tbody>\n",
       "</table>\n",
       "</div>"
      ],
      "text/plain": [
       "     f0_  budget                       genres      id    imdb_id  \\\n",
       "0  False       0                         None  381525  tt5376720   \n",
       "1  False       0  Action, War, Drama, History  104473  tt0223958   \n",
       "2  False       0                    Animation  257095  tt0225145   \n",
       "3  False       0       Animation, Documentary  381096  tt5333518   \n",
       "4  False       0                       Comedy  147050  tt0122580   \n",
       "\n",
       "  original_language         original_title  \\\n",
       "0           Unknown                 WiNWiN   \n",
       "1           Unknown  La prise de Tournavos   \n",
       "2           Unknown                 Bajaja   \n",
       "3           Unknown                   Garn   \n",
       "4           Unknown              Lambchops   \n",
       "\n",
       "                                            overview        _data_source  \\\n",
       "0  American investment fund buys Austrian compani...  the-movies-dataset   \n",
       "1  Three military men, seen inside a fortificatio...  the-movies-dataset   \n",
       "2  The first fairy tale transformed into a full-l...  the-movies-dataset   \n",
       "3  The traditional crafts of crochet and knitting...  the-movies-dataset   \n",
       "4  \"George and Gracie enter an elegant drawing ro...  the-movies-dataset   \n",
       "\n",
       "                        _load_time  \n",
       "0 2025-02-06 22:48:24.489026+00:00  \n",
       "1 2025-02-06 22:48:24.489026+00:00  \n",
       "2 2025-02-06 22:48:24.489026+00:00  \n",
       "3 2025-02-06 22:48:24.489026+00:00  \n",
       "4 2025-02-06 22:48:24.489026+00:00  "
      ]
     },
     "execution_count": 56,
     "metadata": {},
     "output_type": "execute_result"
    }
   ],
   "source": [
    "%%bigquery\n",
    "SELECT \n",
    "    safe_cast(adult as BOOLEAN),\n",
    "    budget,\n",
    "    genres,\n",
    "    id,\n",
    "    imdb_id,\n",
    "    original_language,\n",
    "    original_title,\n",
    "    overview,\n",
    "    _data_source,\n",
    "    _load_time\n",
    "FROM movies_entertainment_raw.movies_metadata\n",
    "LIMIT 5"
   ]
  },
  {
   "cell_type": "code",
   "execution_count": 58,
   "metadata": {},
   "outputs": [
    {
     "data": {
      "application/vnd.jupyter.widget-view+json": {
       "model_id": "449fcd552d184a3a9963e839b345c608",
       "version_major": 2,
       "version_minor": 0
      },
      "text/plain": [
       "Query is running:   0%|          |"
      ]
     },
     "metadata": {},
     "output_type": "display_data"
    },
    {
     "data": {
      "text/html": [
       "<div>\n",
       "<style scoped>\n",
       "    .dataframe tbody tr th:only-of-type {\n",
       "        vertical-align: middle;\n",
       "    }\n",
       "\n",
       "    .dataframe tbody tr th {\n",
       "        vertical-align: top;\n",
       "    }\n",
       "\n",
       "    .dataframe thead th {\n",
       "        text-align: right;\n",
       "    }\n",
       "</style>\n",
       "<table border=\"1\" class=\"dataframe\">\n",
       "  <thead>\n",
       "    <tr style=\"text-align: right;\">\n",
       "      <th></th>\n",
       "    </tr>\n",
       "  </thead>\n",
       "  <tbody>\n",
       "  </tbody>\n",
       "</table>\n",
       "</div>"
      ],
      "text/plain": [
       "Empty DataFrame\n",
       "Columns: []\n",
       "Index: []"
      ]
     },
     "execution_count": 58,
     "metadata": {},
     "output_type": "execute_result"
    }
   ],
   "source": [
    "%%bigquery\n",
    "CREATE or REPLACE TABLE movies_entertainment_stg.movies_metadata as\n",
    "    SELECT \n",
    "        safe_cast(adult as BOOLEAN) as adult,\n",
    "        budget,\n",
    "        genres,\n",
    "        id,\n",
    "        imdb_id,\n",
    "        original_language,\n",
    "        original_title,\n",
    "        overview,\n",
    "        _data_source,\n",
    "        _load_time\n",
    "    FROM movies_entertainment_raw.movies_metadata\n"
   ]
  },
  {
   "cell_type": "markdown",
   "metadata": {},
   "source": [
    "## **Criteria 6**"
   ]
  },
  {
   "cell_type": "markdown",
   "metadata": {},
   "source": [
    "#### **null values represented by something other than 'null' in movie_name column (imdb_reviews table)**"
   ]
  },
  {
   "cell_type": "code",
   "execution_count": 5,
   "metadata": {},
   "outputs": [
    {
     "data": {
      "application/vnd.jupyter.widget-view+json": {
       "model_id": "5c21f04b0c3244cca94c00fa677a9c2a",
       "version_major": 2,
       "version_minor": 0
      },
      "text/plain": [
       "Query is running:   0%|          |"
      ]
     },
     "metadata": {},
     "output_type": "display_data"
    },
    {
     "data": {
      "application/vnd.jupyter.widget-view+json": {
       "model_id": "524c6e19793d4f29a4955ac2a307f55c",
       "version_major": 2,
       "version_minor": 0
      },
      "text/plain": [
       "Downloading:   0%|          |"
      ]
     },
     "metadata": {},
     "output_type": "display_data"
    },
    {
     "data": {
      "text/html": [
       "<div>\n",
       "<style scoped>\n",
       "    .dataframe tbody tr th:only-of-type {\n",
       "        vertical-align: middle;\n",
       "    }\n",
       "\n",
       "    .dataframe tbody tr th {\n",
       "        vertical-align: top;\n",
       "    }\n",
       "\n",
       "    .dataframe thead th {\n",
       "        text-align: right;\n",
       "    }\n",
       "</style>\n",
       "<table border=\"1\" class=\"dataframe\">\n",
       "  <thead>\n",
       "    <tr style=\"text-align: right;\">\n",
       "      <th></th>\n",
       "      <th>movie_name</th>\n",
       "      <th>movie_name2</th>\n",
       "      <th>_data_source</th>\n",
       "      <th>_load_time</th>\n",
       "    </tr>\n",
       "  </thead>\n",
       "  <tbody>\n",
       "    <tr>\n",
       "      <th>0</th>\n",
       "      <td>Gen-Y Cops The Next Generation</td>\n",
       "      <td>Gen-Y Cops The Next Generation</td>\n",
       "      <td>imdb-reviews</td>\n",
       "      <td>2025-02-07 05:13:14.495364+00:00</td>\n",
       "    </tr>\n",
       "    <tr>\n",
       "      <th>1</th>\n",
       "      <td>N/A</td>\n",
       "      <td>None</td>\n",
       "      <td>imdb-reviews</td>\n",
       "      <td>2025-02-07 05:13:14.495364+00:00</td>\n",
       "    </tr>\n",
       "    <tr>\n",
       "      <th>2</th>\n",
       "      <td>Cat in the Brain</td>\n",
       "      <td>Cat in the Brain</td>\n",
       "      <td>imdb-reviews</td>\n",
       "      <td>2025-02-07 05:13:14.495364+00:00</td>\n",
       "    </tr>\n",
       "    <tr>\n",
       "      <th>3</th>\n",
       "      <td>An American Werewolf in London (1997)</td>\n",
       "      <td>An American Werewolf in London (1997)</td>\n",
       "      <td>imdb-reviews</td>\n",
       "      <td>2025-02-07 05:13:14.495364+00:00</td>\n",
       "    </tr>\n",
       "    <tr>\n",
       "      <th>4</th>\n",
       "      <td>Bad Wolf</td>\n",
       "      <td>Bad Wolf</td>\n",
       "      <td>imdb-reviews</td>\n",
       "      <td>2025-02-07 05:13:14.495364+00:00</td>\n",
       "    </tr>\n",
       "    <tr>\n",
       "      <th>...</th>\n",
       "      <td>...</td>\n",
       "      <td>...</td>\n",
       "      <td>...</td>\n",
       "      <td>...</td>\n",
       "    </tr>\n",
       "    <tr>\n",
       "      <th>1252</th>\n",
       "      <td>N/A</td>\n",
       "      <td>None</td>\n",
       "      <td>imdb-reviews</td>\n",
       "      <td>2025-02-07 05:13:14.495364+00:00</td>\n",
       "    </tr>\n",
       "    <tr>\n",
       "      <th>1253</th>\n",
       "      <td>N/A</td>\n",
       "      <td>None</td>\n",
       "      <td>imdb-reviews</td>\n",
       "      <td>2025-02-07 05:13:14.495364+00:00</td>\n",
       "    </tr>\n",
       "    <tr>\n",
       "      <th>1254</th>\n",
       "      <td>You Are Alone</td>\n",
       "      <td>You Are Alone</td>\n",
       "      <td>imdb-reviews</td>\n",
       "      <td>2025-02-07 05:13:14.495364+00:00</td>\n",
       "    </tr>\n",
       "    <tr>\n",
       "      <th>1255</th>\n",
       "      <td>N/A</td>\n",
       "      <td>None</td>\n",
       "      <td>imdb-reviews</td>\n",
       "      <td>2025-02-07 05:13:14.495364+00:00</td>\n",
       "    </tr>\n",
       "    <tr>\n",
       "      <th>1256</th>\n",
       "      <td>The Sound of Music</td>\n",
       "      <td>The Sound of Music</td>\n",
       "      <td>imdb-reviews</td>\n",
       "      <td>2025-02-07 05:13:14.495364+00:00</td>\n",
       "    </tr>\n",
       "  </tbody>\n",
       "</table>\n",
       "<p>1257 rows × 4 columns</p>\n",
       "</div>"
      ],
      "text/plain": [
       "                                 movie_name  \\\n",
       "0            Gen-Y Cops The Next Generation   \n",
       "1                                       N/A   \n",
       "2                          Cat in the Brain   \n",
       "3     An American Werewolf in London (1997)   \n",
       "4                                  Bad Wolf   \n",
       "...                                     ...   \n",
       "1252                                    N/A   \n",
       "1253                                    N/A   \n",
       "1254                          You Are Alone   \n",
       "1255                                    N/A   \n",
       "1256                     The Sound of Music   \n",
       "\n",
       "                                movie_name2  _data_source  \\\n",
       "0            Gen-Y Cops The Next Generation  imdb-reviews   \n",
       "1                                      None  imdb-reviews   \n",
       "2                          Cat in the Brain  imdb-reviews   \n",
       "3     An American Werewolf in London (1997)  imdb-reviews   \n",
       "4                                  Bad Wolf  imdb-reviews   \n",
       "...                                     ...           ...   \n",
       "1252                                   None  imdb-reviews   \n",
       "1253                                   None  imdb-reviews   \n",
       "1254                          You Are Alone  imdb-reviews   \n",
       "1255                                   None  imdb-reviews   \n",
       "1256                     The Sound of Music  imdb-reviews   \n",
       "\n",
       "                           _load_time  \n",
       "0    2025-02-07 05:13:14.495364+00:00  \n",
       "1    2025-02-07 05:13:14.495364+00:00  \n",
       "2    2025-02-07 05:13:14.495364+00:00  \n",
       "3    2025-02-07 05:13:14.495364+00:00  \n",
       "4    2025-02-07 05:13:14.495364+00:00  \n",
       "...                               ...  \n",
       "1252 2025-02-07 05:13:14.495364+00:00  \n",
       "1253 2025-02-07 05:13:14.495364+00:00  \n",
       "1254 2025-02-07 05:13:14.495364+00:00  \n",
       "1255 2025-02-07 05:13:14.495364+00:00  \n",
       "1256 2025-02-07 05:13:14.495364+00:00  \n",
       "\n",
       "[1257 rows x 4 columns]"
      ]
     },
     "execution_count": 5,
     "metadata": {},
     "output_type": "execute_result"
    }
   ],
   "source": [
    "%%bigquery\n",
    "select movie_name, \n",
    "case movie_name when 'N/A' then null else movie_name end as movie_name2,\n",
    "_data_source, _load_time\n",
    "from movies_entertainment_raw.imdb_reviews\n"
   ]
  },
  {
   "cell_type": "code",
   "execution_count": null,
   "metadata": {},
   "outputs": [],
   "source": [
    "%%bigquery\n",
    "select movie_name, \n",
    "case movie_name when 'N/A' then null else movie_name end as movie_name2,\n",
    "_data_source, _load_time\n",
    "from movies_entertainment_raw.imdb_reviews\n"
   ]
  },
  {
   "cell_type": "code",
   "execution_count": 9,
   "metadata": {},
   "outputs": [
    {
     "data": {
      "application/vnd.jupyter.widget-view+json": {
       "model_id": "b7c31bed0d96499ea7ab3670b0d385f2",
       "version_major": 2,
       "version_minor": 0
      },
      "text/plain": [
       "Query is running:   0%|          |"
      ]
     },
     "metadata": {},
     "output_type": "display_data"
    },
    {
     "data": {
      "application/vnd.jupyter.widget-view+json": {
       "model_id": "c5017b145a8d417d89028b02f9f8c58c",
       "version_major": 2,
       "version_minor": 0
      },
      "text/plain": [
       "Downloading:   0%|          |"
      ]
     },
     "metadata": {},
     "output_type": "display_data"
    },
    {
     "data": {
      "text/html": [
       "<div>\n",
       "<style scoped>\n",
       "    .dataframe tbody tr th:only-of-type {\n",
       "        vertical-align: middle;\n",
       "    }\n",
       "\n",
       "    .dataframe tbody tr th {\n",
       "        vertical-align: top;\n",
       "    }\n",
       "\n",
       "    .dataframe thead th {\n",
       "        text-align: right;\n",
       "    }\n",
       "</style>\n",
       "<table border=\"1\" class=\"dataframe\">\n",
       "  <thead>\n",
       "    <tr style=\"text-align: right;\">\n",
       "      <th></th>\n",
       "      <th>filename</th>\n",
       "      <th>movie_name2</th>\n",
       "      <th>sentiment</th>\n",
       "      <th>key_themes</th>\n",
       "      <th>named_entities</th>\n",
       "      <th>emotional_tone</th>\n",
       "      <th>_data_source</th>\n",
       "      <th>_load_time</th>\n",
       "    </tr>\n",
       "  </thead>\n",
       "  <tbody>\n",
       "    <tr>\n",
       "      <th>0</th>\n",
       "      <td>143_4.txt</td>\n",
       "      <td>Gen-Y Cops The Next Generation</td>\n",
       "      <td>Negative</td>\n",
       "      <td>Plot;Acting;Special Effects</td>\n",
       "      <td>Paul Rudd (Actor); N/A; N/A</td>\n",
       "      <td>Disappointment</td>\n",
       "      <td>4</td>\n",
       "      <td>2025-02-07 05:13:14.495364+00:00</td>\n",
       "    </tr>\n",
       "    <tr>\n",
       "      <th>1</th>\n",
       "      <td>344_4.txt</td>\n",
       "      <td>None</td>\n",
       "      <td>Negative</td>\n",
       "      <td>Plot;Special Effects</td>\n",
       "      <td>N/A</td>\n",
       "      <td>Disappointment</td>\n",
       "      <td>N/A</td>\n",
       "      <td>2025-02-07 05:13:14.495364+00:00</td>\n",
       "    </tr>\n",
       "    <tr>\n",
       "      <th>2</th>\n",
       "      <td>384_4.txt</td>\n",
       "      <td>Cat in the Brain</td>\n",
       "      <td>Negative</td>\n",
       "      <td>Plot;Acting;Gore</td>\n",
       "      <td>Lucio Fulci (Director); David L. Thompson (Actor)</td>\n",
       "      <td>Disappointment</td>\n",
       "      <td>N/A</td>\n",
       "      <td>2025-02-07 05:13:14.495364+00:00</td>\n",
       "    </tr>\n",
       "    <tr>\n",
       "      <th>3</th>\n",
       "      <td>430_4.txt</td>\n",
       "      <td>An American Werewolf in London (1997)</td>\n",
       "      <td>Negative</td>\n",
       "      <td>Plot;Acting;FX</td>\n",
       "      <td>David Naughton (Actor); John Landis (Director)...</td>\n",
       "      <td>Disappointment</td>\n",
       "      <td>N/A</td>\n",
       "      <td>2025-02-07 05:13:14.495364+00:00</td>\n",
       "    </tr>\n",
       "    <tr>\n",
       "      <th>4</th>\n",
       "      <td>452_2.txt</td>\n",
       "      <td>Bad Wolf</td>\n",
       "      <td>Negative</td>\n",
       "      <td>Plot;Pacing</td>\n",
       "      <td>N/A</td>\n",
       "      <td>Disappointment</td>\n",
       "      <td>N/A</td>\n",
       "      <td>2025-02-07 05:13:14.495364+00:00</td>\n",
       "    </tr>\n",
       "    <tr>\n",
       "      <th>...</th>\n",
       "      <td>...</td>\n",
       "      <td>...</td>\n",
       "      <td>...</td>\n",
       "      <td>...</td>\n",
       "      <td>...</td>\n",
       "      <td>...</td>\n",
       "      <td>...</td>\n",
       "      <td>...</td>\n",
       "    </tr>\n",
       "    <tr>\n",
       "      <th>1252</th>\n",
       "      <td>572_10.txt</td>\n",
       "      <td>None</td>\n",
       "      <td>Positive</td>\n",
       "      <td>Plot;N/A;N/A</td>\n",
       "      <td>N/A</td>\n",
       "      <td>Satisfaction</td>\n",
       "      <td>N/A</td>\n",
       "      <td>2025-02-07 05:13:14.495364+00:00</td>\n",
       "    </tr>\n",
       "    <tr>\n",
       "      <th>1253</th>\n",
       "      <td>728_10.txt</td>\n",
       "      <td>None</td>\n",
       "      <td>Positive</td>\n",
       "      <td>Plot;N/A;N/A</td>\n",
       "      <td>N/A</td>\n",
       "      <td>Satisfaction</td>\n",
       "      <td>N/A</td>\n",
       "      <td>2025-02-07 05:13:14.495364+00:00</td>\n",
       "    </tr>\n",
       "    <tr>\n",
       "      <th>1254</th>\n",
       "      <td>464_10.txt</td>\n",
       "      <td>You Are Alone</td>\n",
       "      <td>Positive</td>\n",
       "      <td>Soundtrack;Acting;Plot</td>\n",
       "      <td>Jessica Bohl (Actor)</td>\n",
       "      <td>Satisfaction</td>\n",
       "      <td>N/A</td>\n",
       "      <td>2025-02-07 05:13:14.495364+00:00</td>\n",
       "    </tr>\n",
       "    <tr>\n",
       "      <th>1255</th>\n",
       "      <td>466_9.txt</td>\n",
       "      <td>None</td>\n",
       "      <td>Positive</td>\n",
       "      <td>Soundtrack;Acting;Plot</td>\n",
       "      <td>Nick Drake (Actor);</td>\n",
       "      <td>Satisfaction</td>\n",
       "      <td>N/A</td>\n",
       "      <td>2025-02-07 05:13:14.495364+00:00</td>\n",
       "    </tr>\n",
       "    <tr>\n",
       "      <th>1256</th>\n",
       "      <td>69_10.txt</td>\n",
       "      <td>The Sound of Music</td>\n",
       "      <td>Positive</td>\n",
       "      <td>Soundtrack;Acting;Plot</td>\n",
       "      <td>Julie Andrews (Actor); Henry Mancini (Composer...</td>\n",
       "      <td>Satisfaction</td>\n",
       "      <td>N/A</td>\n",
       "      <td>2025-02-07 05:13:14.495364+00:00</td>\n",
       "    </tr>\n",
       "  </tbody>\n",
       "</table>\n",
       "<p>1257 rows × 8 columns</p>\n",
       "</div>"
      ],
      "text/plain": [
       "        filename                            movie_name2 sentiment  \\\n",
       "0      143_4.txt         Gen-Y Cops The Next Generation  Negative   \n",
       "1      344_4.txt                                   None  Negative   \n",
       "2      384_4.txt                       Cat in the Brain  Negative   \n",
       "3      430_4.txt  An American Werewolf in London (1997)  Negative   \n",
       "4      452_2.txt                               Bad Wolf  Negative   \n",
       "...          ...                                    ...       ...   \n",
       "1252  572_10.txt                                   None  Positive   \n",
       "1253  728_10.txt                                   None  Positive   \n",
       "1254  464_10.txt                          You Are Alone  Positive   \n",
       "1255   466_9.txt                                   None  Positive   \n",
       "1256   69_10.txt                     The Sound of Music  Positive   \n",
       "\n",
       "                       key_themes  \\\n",
       "0     Plot;Acting;Special Effects   \n",
       "1            Plot;Special Effects   \n",
       "2                Plot;Acting;Gore   \n",
       "3                  Plot;Acting;FX   \n",
       "4                     Plot;Pacing   \n",
       "...                           ...   \n",
       "1252                 Plot;N/A;N/A   \n",
       "1253                 Plot;N/A;N/A   \n",
       "1254       Soundtrack;Acting;Plot   \n",
       "1255       Soundtrack;Acting;Plot   \n",
       "1256       Soundtrack;Acting;Plot   \n",
       "\n",
       "                                         named_entities  emotional_tone  \\\n",
       "0                           Paul Rudd (Actor); N/A; N/A  Disappointment   \n",
       "1                                                   N/A  Disappointment   \n",
       "2     Lucio Fulci (Director); David L. Thompson (Actor)  Disappointment   \n",
       "3     David Naughton (Actor); John Landis (Director)...  Disappointment   \n",
       "4                                                   N/A  Disappointment   \n",
       "...                                                 ...             ...   \n",
       "1252                                                N/A    Satisfaction   \n",
       "1253                                                N/A    Satisfaction   \n",
       "1254                               Jessica Bohl (Actor)    Satisfaction   \n",
       "1255                                Nick Drake (Actor);    Satisfaction   \n",
       "1256  Julie Andrews (Actor); Henry Mancini (Composer...    Satisfaction   \n",
       "\n",
       "     _data_source                       _load_time  \n",
       "0               4 2025-02-07 05:13:14.495364+00:00  \n",
       "1             N/A 2025-02-07 05:13:14.495364+00:00  \n",
       "2             N/A 2025-02-07 05:13:14.495364+00:00  \n",
       "3             N/A 2025-02-07 05:13:14.495364+00:00  \n",
       "4             N/A 2025-02-07 05:13:14.495364+00:00  \n",
       "...           ...                              ...  \n",
       "1252          N/A 2025-02-07 05:13:14.495364+00:00  \n",
       "1253          N/A 2025-02-07 05:13:14.495364+00:00  \n",
       "1254          N/A 2025-02-07 05:13:14.495364+00:00  \n",
       "1255          N/A 2025-02-07 05:13:14.495364+00:00  \n",
       "1256          N/A 2025-02-07 05:13:14.495364+00:00  \n",
       "\n",
       "[1257 rows x 8 columns]"
      ]
     },
     "execution_count": 9,
     "metadata": {},
     "output_type": "execute_result"
    }
   ],
   "source": [
    "%%bigquery\n",
    "select\n",
    "    filename,\n",
    "    case movie_name when 'N/A' then null else movie_name end as movie_name2,\n",
    "    sentiment,\n",
    "    key_themes,\n",
    "    named_entities,\n",
    "    emotional_tone,\n",
    "    star_rating\n",
    "    _data_source, \n",
    "    _load_time\n",
    "from movies_entertainment_raw.imdb_reviews\n"
   ]
  },
  {
   "cell_type": "code",
   "execution_count": 10,
   "metadata": {},
   "outputs": [
    {
     "data": {
      "application/vnd.jupyter.widget-view+json": {
       "model_id": "bc0c07304a6249d08afc37394a45f2c3",
       "version_major": 2,
       "version_minor": 0
      },
      "text/plain": [
       "Query is running:   0%|          |"
      ]
     },
     "metadata": {},
     "output_type": "display_data"
    },
    {
     "data": {
      "text/html": [
       "<div>\n",
       "<style scoped>\n",
       "    .dataframe tbody tr th:only-of-type {\n",
       "        vertical-align: middle;\n",
       "    }\n",
       "\n",
       "    .dataframe tbody tr th {\n",
       "        vertical-align: top;\n",
       "    }\n",
       "\n",
       "    .dataframe thead th {\n",
       "        text-align: right;\n",
       "    }\n",
       "</style>\n",
       "<table border=\"1\" class=\"dataframe\">\n",
       "  <thead>\n",
       "    <tr style=\"text-align: right;\">\n",
       "      <th></th>\n",
       "    </tr>\n",
       "  </thead>\n",
       "  <tbody>\n",
       "  </tbody>\n",
       "</table>\n",
       "</div>"
      ],
      "text/plain": [
       "Empty DataFrame\n",
       "Columns: []\n",
       "Index: []"
      ]
     },
     "execution_count": 10,
     "metadata": {},
     "output_type": "execute_result"
    }
   ],
   "source": [
    "%%bigquery\n",
    "CREATE or REPLACE TABLE movies_entertainment_stg.imdb_reviews as\n",
    "    select\n",
    "        filename,\n",
    "        case movie_name when 'N/A' then null else movie_name end as movie_name,\n",
    "        sentiment,\n",
    "        key_themes,\n",
    "        named_entities,\n",
    "        emotional_tone,\n",
    "        star_rating\n",
    "        _data_source, \n",
    "        _load_time\n",
    "    from movies_entertainment_raw.imdb_reviews\n"
   ]
  },
  {
   "cell_type": "markdown",
   "metadata": {},
   "source": [
    "## **Criteria 7**"
   ]
  },
  {
   "cell_type": "markdown",
   "metadata": {},
   "source": [
    "#### **Splitting cells with multiple values (genre column in movies metadata column)**"
   ]
  },
  {
   "cell_type": "code",
   "execution_count": 9,
   "metadata": {},
   "outputs": [
    {
     "data": {
      "application/vnd.jupyter.widget-view+json": {
       "model_id": "e8ac8e802056490a8a46e25b81d7ea1b",
       "version_major": 2,
       "version_minor": 0
      },
      "text/plain": [
       "Query is running:   0%|          |"
      ]
     },
     "metadata": {},
     "output_type": "display_data"
    },
    {
     "data": {
      "application/vnd.jupyter.widget-view+json": {
       "model_id": "df8aa1fc12d442178e57e496c9630b5c",
       "version_major": 2,
       "version_minor": 0
      },
      "text/plain": [
       "Downloading:   0%|          |"
      ]
     },
     "metadata": {},
     "output_type": "display_data"
    },
    {
     "data": {
      "text/html": [
       "<div>\n",
       "<style scoped>\n",
       "    .dataframe tbody tr th:only-of-type {\n",
       "        vertical-align: middle;\n",
       "    }\n",
       "\n",
       "    .dataframe tbody tr th {\n",
       "        vertical-align: top;\n",
       "    }\n",
       "\n",
       "    .dataframe thead th {\n",
       "        text-align: right;\n",
       "    }\n",
       "</style>\n",
       "<table border=\"1\" class=\"dataframe\">\n",
       "  <thead>\n",
       "    <tr style=\"text-align: right;\">\n",
       "      <th></th>\n",
       "      <th>adult</th>\n",
       "      <th>budget</th>\n",
       "      <th>genres</th>\n",
       "      <th>id</th>\n",
       "      <th>imdb_id</th>\n",
       "      <th>original_language</th>\n",
       "      <th>original_title</th>\n",
       "      <th>overview</th>\n",
       "      <th>action</th>\n",
       "      <th>adventure</th>\n",
       "      <th>...</th>\n",
       "      <th>music</th>\n",
       "      <th>mystery</th>\n",
       "      <th>romance</th>\n",
       "      <th>scifi</th>\n",
       "      <th>tv_movie</th>\n",
       "      <th>thriller</th>\n",
       "      <th>war</th>\n",
       "      <th>western</th>\n",
       "      <th>_data_source</th>\n",
       "      <th>_load_time</th>\n",
       "    </tr>\n",
       "  </thead>\n",
       "  <tbody>\n",
       "    <tr>\n",
       "      <th>0</th>\n",
       "      <td>FALSE</td>\n",
       "      <td>0</td>\n",
       "      <td>None</td>\n",
       "      <td>381525</td>\n",
       "      <td>tt5376720</td>\n",
       "      <td>Unknown</td>\n",
       "      <td>WiNWiN</td>\n",
       "      <td>American investment fund buys Austrian compani...</td>\n",
       "      <td>0</td>\n",
       "      <td>0</td>\n",
       "      <td>...</td>\n",
       "      <td>0</td>\n",
       "      <td>0</td>\n",
       "      <td>0</td>\n",
       "      <td>0</td>\n",
       "      <td>0</td>\n",
       "      <td>0</td>\n",
       "      <td>0</td>\n",
       "      <td>0</td>\n",
       "      <td>the-movies-dataset</td>\n",
       "      <td>2025-02-06 22:48:24.489026+00:00</td>\n",
       "    </tr>\n",
       "    <tr>\n",
       "      <th>1</th>\n",
       "      <td>FALSE</td>\n",
       "      <td>0</td>\n",
       "      <td>Action, War, Drama, History</td>\n",
       "      <td>104473</td>\n",
       "      <td>tt0223958</td>\n",
       "      <td>Unknown</td>\n",
       "      <td>La prise de Tournavos</td>\n",
       "      <td>Three military men, seen inside a fortificatio...</td>\n",
       "      <td>1</td>\n",
       "      <td>0</td>\n",
       "      <td>...</td>\n",
       "      <td>0</td>\n",
       "      <td>0</td>\n",
       "      <td>0</td>\n",
       "      <td>0</td>\n",
       "      <td>0</td>\n",
       "      <td>0</td>\n",
       "      <td>1</td>\n",
       "      <td>0</td>\n",
       "      <td>the-movies-dataset</td>\n",
       "      <td>2025-02-06 22:48:24.489026+00:00</td>\n",
       "    </tr>\n",
       "    <tr>\n",
       "      <th>2</th>\n",
       "      <td>FALSE</td>\n",
       "      <td>0</td>\n",
       "      <td>Animation</td>\n",
       "      <td>257095</td>\n",
       "      <td>tt0225145</td>\n",
       "      <td>Unknown</td>\n",
       "      <td>Bajaja</td>\n",
       "      <td>The first fairy tale transformed into a full-l...</td>\n",
       "      <td>0</td>\n",
       "      <td>0</td>\n",
       "      <td>...</td>\n",
       "      <td>0</td>\n",
       "      <td>0</td>\n",
       "      <td>0</td>\n",
       "      <td>0</td>\n",
       "      <td>0</td>\n",
       "      <td>0</td>\n",
       "      <td>0</td>\n",
       "      <td>0</td>\n",
       "      <td>the-movies-dataset</td>\n",
       "      <td>2025-02-06 22:48:24.489026+00:00</td>\n",
       "    </tr>\n",
       "    <tr>\n",
       "      <th>3</th>\n",
       "      <td>FALSE</td>\n",
       "      <td>0</td>\n",
       "      <td>Animation, Documentary</td>\n",
       "      <td>381096</td>\n",
       "      <td>tt5333518</td>\n",
       "      <td>Unknown</td>\n",
       "      <td>Garn</td>\n",
       "      <td>The traditional crafts of crochet and knitting...</td>\n",
       "      <td>0</td>\n",
       "      <td>0</td>\n",
       "      <td>...</td>\n",
       "      <td>0</td>\n",
       "      <td>0</td>\n",
       "      <td>0</td>\n",
       "      <td>0</td>\n",
       "      <td>0</td>\n",
       "      <td>0</td>\n",
       "      <td>0</td>\n",
       "      <td>0</td>\n",
       "      <td>the-movies-dataset</td>\n",
       "      <td>2025-02-06 22:48:24.489026+00:00</td>\n",
       "    </tr>\n",
       "    <tr>\n",
       "      <th>4</th>\n",
       "      <td>FALSE</td>\n",
       "      <td>0</td>\n",
       "      <td>Comedy</td>\n",
       "      <td>147050</td>\n",
       "      <td>tt0122580</td>\n",
       "      <td>Unknown</td>\n",
       "      <td>Lambchops</td>\n",
       "      <td>\"George and Gracie enter an elegant drawing ro...</td>\n",
       "      <td>0</td>\n",
       "      <td>0</td>\n",
       "      <td>...</td>\n",
       "      <td>0</td>\n",
       "      <td>0</td>\n",
       "      <td>0</td>\n",
       "      <td>0</td>\n",
       "      <td>0</td>\n",
       "      <td>0</td>\n",
       "      <td>0</td>\n",
       "      <td>0</td>\n",
       "      <td>the-movies-dataset</td>\n",
       "      <td>2025-02-06 22:48:24.489026+00:00</td>\n",
       "    </tr>\n",
       "  </tbody>\n",
       "</table>\n",
       "<p>5 rows × 30 columns</p>\n",
       "</div>"
      ],
      "text/plain": [
       "   adult  budget                       genres      id    imdb_id  \\\n",
       "0  FALSE       0                         None  381525  tt5376720   \n",
       "1  FALSE       0  Action, War, Drama, History  104473  tt0223958   \n",
       "2  FALSE       0                    Animation  257095  tt0225145   \n",
       "3  FALSE       0       Animation, Documentary  381096  tt5333518   \n",
       "4  FALSE       0                       Comedy  147050  tt0122580   \n",
       "\n",
       "  original_language         original_title  \\\n",
       "0           Unknown                 WiNWiN   \n",
       "1           Unknown  La prise de Tournavos   \n",
       "2           Unknown                 Bajaja   \n",
       "3           Unknown                   Garn   \n",
       "4           Unknown              Lambchops   \n",
       "\n",
       "                                            overview  action  adventure  ...  \\\n",
       "0  American investment fund buys Austrian compani...       0          0  ...   \n",
       "1  Three military men, seen inside a fortificatio...       1          0  ...   \n",
       "2  The first fairy tale transformed into a full-l...       0          0  ...   \n",
       "3  The traditional crafts of crochet and knitting...       0          0  ...   \n",
       "4  \"George and Gracie enter an elegant drawing ro...       0          0  ...   \n",
       "\n",
       "   music  mystery  romance  scifi  tv_movie  thriller  war  western  \\\n",
       "0      0        0        0      0         0         0    0        0   \n",
       "1      0        0        0      0         0         0    1        0   \n",
       "2      0        0        0      0         0         0    0        0   \n",
       "3      0        0        0      0         0         0    0        0   \n",
       "4      0        0        0      0         0         0    0        0   \n",
       "\n",
       "         _data_source                       _load_time  \n",
       "0  the-movies-dataset 2025-02-06 22:48:24.489026+00:00  \n",
       "1  the-movies-dataset 2025-02-06 22:48:24.489026+00:00  \n",
       "2  the-movies-dataset 2025-02-06 22:48:24.489026+00:00  \n",
       "3  the-movies-dataset 2025-02-06 22:48:24.489026+00:00  \n",
       "4  the-movies-dataset 2025-02-06 22:48:24.489026+00:00  \n",
       "\n",
       "[5 rows x 30 columns]"
      ]
     },
     "execution_count": 9,
     "metadata": {},
     "output_type": "execute_result"
    }
   ],
   "source": [
    "%%bigquery\n",
    "\n",
    "SELECT \n",
    "    adult,\n",
    "    budget,\n",
    "    genres,\n",
    "    id,\n",
    "    imdb_id,\n",
    "    original_language,\n",
    "    original_title,\n",
    "    overview,\n",
    "\n",
    "    CASE WHEN genres LIKE '%Action%' THEN 1 ELSE 0 END AS action,\n",
    "    CASE WHEN genres LIKE '%Adventure%' THEN 1 ELSE 0 END AS adventure,\n",
    "    CASE WHEN genres LIKE '%Animation%' THEN 1 ELSE 0 END AS animation,\n",
    "    CASE WHEN genres LIKE '%Comedy%' THEN 1 ELSE 0 END AS comedy,\n",
    "    CASE WHEN genres LIKE '%Crime%' THEN 1 ELSE 0 END AS crime,\n",
    "    CASE WHEN genres LIKE '%Documentary%' THEN 1 ELSE 0 END AS documentary,\n",
    "    CASE WHEN genres LIKE '%Drama%' THEN 1 ELSE 0 END AS drama,\n",
    "    CASE WHEN genres LIKE '%Family%' THEN 1 ELSE 0 END AS family,\n",
    "    CASE WHEN genres LIKE '%Fantasy%' THEN 1 ELSE 0 END AS fantasy,\n",
    "    CASE WHEN genres LIKE '%Foreign%' THEN 1 ELSE 0 END AS foreign,\n",
    "    CASE WHEN genres LIKE '%History%' THEN 1 ELSE 0 END AS history,\n",
    "    CASE WHEN genres LIKE '%Horror%' THEN 1 ELSE 0 END AS horror,\n",
    "    CASE WHEN genres LIKE '%Music%' THEN 1 ELSE 0 END AS music,\n",
    "    CASE WHEN genres LIKE '%Mystery%' THEN 1 ELSE 0 END AS mystery,\n",
    "    CASE WHEN genres LIKE '%Romance%' THEN 1 ELSE 0 END AS romance,\n",
    "    CASE WHEN genres LIKE '%Science Fiction%' THEN 1 ELSE 0 END AS scifi,\n",
    "    CASE WHEN genres LIKE '%TV Movie%' THEN 1 ELSE 0 END AS tv_movie,\n",
    "    CASE WHEN genres LIKE '%Thriller%' THEN 1 ELSE 0 END AS thriller,\n",
    "    CASE WHEN genres LIKE '%War%' THEN 1 ELSE 0 END AS war,\n",
    "    CASE WHEN genres LIKE '%Western%' THEN 1 ELSE 0 END AS western,\n",
    "    _data_source,\n",
    "    _load_time\n",
    "\n",
    "FROM movies_entertainment_raw.movies_metadata\n",
    "limit 5\n"
   ]
  },
  {
   "cell_type": "markdown",
   "metadata": {},
   "source": [
    "#### **Why Splitting Genres into Multiple Columns is Practical**\n",
    "\n",
    "While adding 20 additional columns might seem excessive at first, this structure significantly improves **query performance, filtering, and analysis**. Instead of relying on inefficient text searches (`LIKE '%Action%'`), we can now leverage **indexed columns** to quickly find and aggregate movies by genre. This structure also ensures **data consistency**, preventing issues caused by variations in how genres are listed. Additionally, this approach simplifies **data visualization**, allowing for easier trend analysis and reporting. In large datasets, structured genre columns are far more efficient than scanning text fields, making this a scalable solution for data-driven decision-making.\n"
   ]
  },
  {
   "cell_type": "markdown",
   "metadata": {},
   "source": [
    "#### **staging**"
   ]
  },
  {
   "cell_type": "code",
   "execution_count": 5,
   "metadata": {},
   "outputs": [
    {
     "data": {
      "application/vnd.jupyter.widget-view+json": {
       "model_id": "982115c480784739a89531c55a3f281d",
       "version_major": 2,
       "version_minor": 0
      },
      "text/plain": [
       "Query is running:   0%|          |"
      ]
     },
     "metadata": {},
     "output_type": "display_data"
    },
    {
     "data": {
      "text/html": [
       "<div>\n",
       "<style scoped>\n",
       "    .dataframe tbody tr th:only-of-type {\n",
       "        vertical-align: middle;\n",
       "    }\n",
       "\n",
       "    .dataframe tbody tr th {\n",
       "        vertical-align: top;\n",
       "    }\n",
       "\n",
       "    .dataframe thead th {\n",
       "        text-align: right;\n",
       "    }\n",
       "</style>\n",
       "<table border=\"1\" class=\"dataframe\">\n",
       "  <thead>\n",
       "    <tr style=\"text-align: right;\">\n",
       "      <th></th>\n",
       "    </tr>\n",
       "  </thead>\n",
       "  <tbody>\n",
       "  </tbody>\n",
       "</table>\n",
       "</div>"
      ],
      "text/plain": [
       "Empty DataFrame\n",
       "Columns: []\n",
       "Index: []"
      ]
     },
     "execution_count": 5,
     "metadata": {},
     "output_type": "execute_result"
    }
   ],
   "source": [
    "%%bigquery\n",
    "CREATE or REPLACE TABLE movies_entertainment_stg.movies_metadata as\n",
    "    SELECT \n",
    "        adult,\n",
    "        budget,\n",
    "        genres,\n",
    "        id,\n",
    "        imdb_id,\n",
    "        original_language,\n",
    "        original_title,\n",
    "        overview,\n",
    "\n",
    "        CASE WHEN genres LIKE '%Action%' THEN 1 ELSE 0 END AS action,\n",
    "        CASE WHEN genres LIKE '%Adventure%' THEN 1 ELSE 0 END AS adventure,\n",
    "        CASE WHEN genres LIKE '%Animation%' THEN 1 ELSE 0 END AS animation,\n",
    "        CASE WHEN genres LIKE '%Comedy%' THEN 1 ELSE 0 END AS comedy,\n",
    "        CASE WHEN genres LIKE '%Crime%' THEN 1 ELSE 0 END AS crime,\n",
    "        CASE WHEN genres LIKE '%Documentary%' THEN 1 ELSE 0 END AS documentary,\n",
    "        CASE WHEN genres LIKE '%Drama%' THEN 1 ELSE 0 END AS drama,\n",
    "        CASE WHEN genres LIKE '%Family%' THEN 1 ELSE 0 END AS family,\n",
    "        CASE WHEN genres LIKE '%Fantasy%' THEN 1 ELSE 0 END AS fantasy,\n",
    "        CASE WHEN genres LIKE '%Foreign%' THEN 1 ELSE 0 END AS foreign,\n",
    "        CASE WHEN genres LIKE '%History%' THEN 1 ELSE 0 END AS history,\n",
    "        CASE WHEN genres LIKE '%Horror%' THEN 1 ELSE 0 END AS horror,\n",
    "        CASE WHEN genres LIKE '%Music%' THEN 1 ELSE 0 END AS music,\n",
    "        CASE WHEN genres LIKE '%Mystery%' THEN 1 ELSE 0 END AS mystery,\n",
    "        CASE WHEN genres LIKE '%Romance%' THEN 1 ELSE 0 END AS romance,\n",
    "        CASE WHEN genres LIKE '%Science Fiction%' THEN 1 ELSE 0 END AS scifi,\n",
    "        CASE WHEN genres LIKE '%TV Movie%' THEN 1 ELSE 0 END AS tv_movie,\n",
    "        CASE WHEN genres LIKE '%Thriller%' THEN 1 ELSE 0 END AS thriller,\n",
    "        CASE WHEN genres LIKE '%War%' THEN 1 ELSE 0 END AS war,\n",
    "        CASE WHEN genres LIKE '%Western%' THEN 1 ELSE 0 END AS western,\n",
    "        _data_source,\n",
    "        _load_time\n",
    "\n",
    "    FROM movies_entertainment_raw.movies_metadata\n"
   ]
  },
  {
   "cell_type": "code",
   "execution_count": 4,
   "metadata": {},
   "outputs": [
    {
     "data": {
      "application/vnd.jupyter.widget-view+json": {
       "model_id": "c9dfc2caa48f4c5e923e763ce2c3aeef",
       "version_major": 2,
       "version_minor": 0
      },
      "text/plain": [
       "Query is running:   0%|          |"
      ]
     },
     "metadata": {},
     "output_type": "display_data"
    },
    {
     "data": {
      "text/html": [
       "<div>\n",
       "<style scoped>\n",
       "    .dataframe tbody tr th:only-of-type {\n",
       "        vertical-align: middle;\n",
       "    }\n",
       "\n",
       "    .dataframe tbody tr th {\n",
       "        vertical-align: top;\n",
       "    }\n",
       "\n",
       "    .dataframe thead th {\n",
       "        text-align: right;\n",
       "    }\n",
       "</style>\n",
       "<table border=\"1\" class=\"dataframe\">\n",
       "  <thead>\n",
       "    <tr style=\"text-align: right;\">\n",
       "      <th></th>\n",
       "    </tr>\n",
       "  </thead>\n",
       "  <tbody>\n",
       "  </tbody>\n",
       "</table>\n",
       "</div>"
      ],
      "text/plain": [
       "Empty DataFrame\n",
       "Columns: []\n",
       "Index: []"
      ]
     },
     "execution_count": 4,
     "metadata": {},
     "output_type": "execute_result"
    }
   ],
   "source": [
    "%%bigquery\n",
    "CREATE or REPLACE TABLE movies_entertainment_stg.box_office_gross as\n",
    "    SELECT * FROM movies_entertainment_raw.box_office_gross\n"
   ]
  },
  {
   "cell_type": "code",
   "execution_count": 3,
   "metadata": {},
   "outputs": [
    {
     "data": {
      "application/vnd.jupyter.widget-view+json": {
       "model_id": "dbf63d1a4a3d49caac598bd13db6f385",
       "version_major": 2,
       "version_minor": 0
      },
      "text/plain": [
       "Query is running:   0%|          |"
      ]
     },
     "metadata": {},
     "output_type": "display_data"
    },
    {
     "data": {
      "text/html": [
       "<div>\n",
       "<style scoped>\n",
       "    .dataframe tbody tr th:only-of-type {\n",
       "        vertical-align: middle;\n",
       "    }\n",
       "\n",
       "    .dataframe tbody tr th {\n",
       "        vertical-align: top;\n",
       "    }\n",
       "\n",
       "    .dataframe thead th {\n",
       "        text-align: right;\n",
       "    }\n",
       "</style>\n",
       "<table border=\"1\" class=\"dataframe\">\n",
       "  <thead>\n",
       "    <tr style=\"text-align: right;\">\n",
       "      <th></th>\n",
       "    </tr>\n",
       "  </thead>\n",
       "  <tbody>\n",
       "  </tbody>\n",
       "</table>\n",
       "</div>"
      ],
      "text/plain": [
       "Empty DataFrame\n",
       "Columns: []\n",
       "Index: []"
      ]
     },
     "execution_count": 3,
     "metadata": {},
     "output_type": "execute_result"
    }
   ],
   "source": [
    "%%bigquery\n",
    "delete from movies_entertainment_stg.box_office_gross where brand in ('Platinum Dunes', 'Vertigo Entertainment', 'Bad Robot')\n"
   ]
  }
 ],
 "metadata": {
  "kernelspec": {
   "display_name": "base",
   "language": "python",
   "name": "python3"
  },
  "language_info": {
   "codemirror_mode": {
    "name": "ipython",
    "version": 3
   },
   "file_extension": ".py",
   "mimetype": "text/x-python",
   "name": "python",
   "nbconvert_exporter": "python",
   "pygments_lexer": "ipython3",
   "version": "3.11.4"
  },
  "orig_nbformat": 4
 },
 "nbformat": 4,
 "nbformat_minor": 2
}
