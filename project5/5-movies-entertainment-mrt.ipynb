{
 "cells": [
  {
   "cell_type": "code",
   "execution_count": 13,
   "metadata": {},
   "outputs": [
    {
     "name": "stdout",
     "output_type": "stream",
     "text": [
      "Created dataset dylanericsp25.movies_entertainment_mrt\n"
     ]
    }
   ],
   "source": [
    "from google.cloud import bigquery\n",
    "\n",
    "project_id = \"dylanericsp25\"\n",
    "dataset = \"movies_entertainment_mrt\"\n",
    "region = \"us-central1\"\n",
    "\n",
    "bq_client = bigquery.Client()\n",
    "\n",
    "dataset_id = bigquery.Dataset(f\"{project_id}.{dataset}\")\n",
    "dataset_id.location = region\n",
    "resp = bq_client.create_dataset(dataset_id, exists_ok=True)\n",
    "print(\"Created dataset {}.{}\".format(bq_client.project, resp.dataset_id))"
   ]
  },
  {
   "cell_type": "code",
   "execution_count": 2,
   "metadata": {},
   "outputs": [
    {
     "name": "stderr",
     "output_type": "stream",
     "text": [
      "/Users/dylanlam/miniconda3/lib/python3.11/site-packages/google/cloud/bigquery/__init__.py:237: FutureWarning: %load_ext google.cloud.bigquery is deprecated. Install bigquery-magics package and use `%load_ext bigquery_magics`, instead.\n",
      "  warnings.warn(\n"
     ]
    }
   ],
   "source": [
    "%load_ext google.cloud.bigquery"
   ]
  },
  {
   "cell_type": "markdown",
   "metadata": {},
   "source": [
    "**1.) Which companies produce the highest-grossing movies, and how do their box office earnings compare?**"
   ]
  },
  {
   "cell_type": "markdown",
   "metadata": {},
   "source": [
    "Company Revenue Mart"
   ]
  },
  {
   "cell_type": "code",
   "execution_count": 15,
   "metadata": {},
   "outputs": [
    {
     "data": {
      "application/vnd.jupyter.widget-view+json": {
       "model_id": "b85e67fe64a74762a838143204cb83b5",
       "version_major": 2,
       "version_minor": 0
      },
      "text/plain": [
       "Query is running:   0%|          |"
      ]
     },
     "metadata": {},
     "output_type": "display_data"
    },
    {
     "data": {
      "text/html": [
       "<div>\n",
       "<style scoped>\n",
       "    .dataframe tbody tr th:only-of-type {\n",
       "        vertical-align: middle;\n",
       "    }\n",
       "\n",
       "    .dataframe tbody tr th {\n",
       "        vertical-align: top;\n",
       "    }\n",
       "\n",
       "    .dataframe thead th {\n",
       "        text-align: right;\n",
       "    }\n",
       "</style>\n",
       "<table border=\"1\" class=\"dataframe\">\n",
       "  <thead>\n",
       "    <tr style=\"text-align: right;\">\n",
       "      <th></th>\n",
       "    </tr>\n",
       "  </thead>\n",
       "  <tbody>\n",
       "  </tbody>\n",
       "</table>\n",
       "</div>"
      ],
      "text/plain": [
       "Empty DataFrame\n",
       "Columns: []\n",
       "Index: []"
      ]
     },
     "execution_count": 15,
     "metadata": {},
     "output_type": "execute_result"
    }
   ],
   "source": [
    "%%bigquery\n",
    "CREATE or REPLACE table movies_entertainment_mrt.company_revenue AS\n",
    "SELECT \n",
    "    c.brand, \n",
    "    SUM(b.lifetime_gross) AS total_lifetime_gross\n",
    "FROM movies_entertainment_int.Companies c\n",
    "JOIN movies_entertainment_int.Box_Office_Gross b ON c.brand = b.brand\n",
    "GROUP BY c.brand\n",
    "ORDER BY total_lifetime_gross DESC"
   ]
  },
  {
   "cell_type": "markdown",
   "metadata": {},
   "source": [
    "Top Performing Companies by Revenue & Releases Mart"
   ]
  },
  {
   "cell_type": "code",
   "execution_count": null,
   "metadata": {},
   "outputs": [
    {
     "data": {
      "application/vnd.jupyter.widget-view+json": {
       "model_id": "a3dae2bc78bc4bdca90361c8d8c47e53",
       "version_major": 2,
       "version_minor": 0
      },
      "text/plain": [
       "Query is running:   0%|          |"
      ]
     },
     "metadata": {},
     "output_type": "display_data"
    },
    {
     "data": {
      "application/vnd.jupyter.widget-view+json": {
       "model_id": "5998e10a72584c9d95b79290b70d274b",
       "version_major": 2,
       "version_minor": 0
      },
      "text/plain": [
       "Downloading:   0%|          |"
      ]
     },
     "metadata": {},
     "output_type": "display_data"
    },
    {
     "data": {
      "text/html": [
       "<div>\n",
       "<style scoped>\n",
       "    .dataframe tbody tr th:only-of-type {\n",
       "        vertical-align: middle;\n",
       "    }\n",
       "\n",
       "    .dataframe tbody tr th {\n",
       "        vertical-align: top;\n",
       "    }\n",
       "\n",
       "    .dataframe thead th {\n",
       "        text-align: right;\n",
       "    }\n",
       "</style>\n",
       "<table border=\"1\" class=\"dataframe\">\n",
       "  <thead>\n",
       "    <tr style=\"text-align: right;\">\n",
       "      <th></th>\n",
       "      <th>brand</th>\n",
       "      <th>total_lifetime_gross</th>\n",
       "      <th>total_releases</th>\n",
       "    </tr>\n",
       "  </thead>\n",
       "  <tbody>\n",
       "    <tr>\n",
       "      <th>0</th>\n",
       "      <td>Tim Burton-Johnny Depp</td>\n",
       "      <td>2673528880</td>\n",
       "      <td>8</td>\n",
       "    </tr>\n",
       "    <tr>\n",
       "      <th>1</th>\n",
       "      <td>DC Comics</td>\n",
       "      <td>1066690716</td>\n",
       "      <td>2</td>\n",
       "    </tr>\n",
       "    <tr>\n",
       "      <th>2</th>\n",
       "      <td>Legendary Pictures</td>\n",
       "      <td>652270625</td>\n",
       "      <td>1</td>\n",
       "    </tr>\n",
       "    <tr>\n",
       "      <th>3</th>\n",
       "      <td>DreamWorks Animation</td>\n",
       "      <td>441226247</td>\n",
       "      <td>1</td>\n",
       "    </tr>\n",
       "    <tr>\n",
       "      <th>4</th>\n",
       "      <td>Hasbro</td>\n",
       "      <td>402111870</td>\n",
       "      <td>1</td>\n",
       "    </tr>\n",
       "    <tr>\n",
       "      <th>5</th>\n",
       "      <td>MonsterVerse</td>\n",
       "      <td>401352138</td>\n",
       "      <td>2</td>\n",
       "    </tr>\n",
       "    <tr>\n",
       "      <th>6</th>\n",
       "      <td>Nickelodeon</td>\n",
       "      <td>382409508</td>\n",
       "      <td>2</td>\n",
       "    </tr>\n",
       "    <tr>\n",
       "      <th>7</th>\n",
       "      <td>Illumination Entertainment</td>\n",
       "      <td>368384330</td>\n",
       "      <td>1</td>\n",
       "    </tr>\n",
       "    <tr>\n",
       "      <th>8</th>\n",
       "      <td>Blumhouse Productions</td>\n",
       "      <td>352081330</td>\n",
       "      <td>2</td>\n",
       "    </tr>\n",
       "    <tr>\n",
       "      <th>9</th>\n",
       "      <td>Stephen King</td>\n",
       "      <td>327481748</td>\n",
       "      <td>1</td>\n",
       "    </tr>\n",
       "    <tr>\n",
       "      <th>10</th>\n",
       "      <td>John Grisham</td>\n",
       "      <td>316696734</td>\n",
       "      <td>2</td>\n",
       "    </tr>\n",
       "    <tr>\n",
       "      <th>11</th>\n",
       "      <td>MTV</td>\n",
       "      <td>316238920</td>\n",
       "      <td>2</td>\n",
       "    </tr>\n",
       "    <tr>\n",
       "      <th>12</th>\n",
       "      <td>Warner Animation Group</td>\n",
       "      <td>257760692</td>\n",
       "      <td>1</td>\n",
       "    </tr>\n",
       "    <tr>\n",
       "      <th>13</th>\n",
       "      <td>Robert Ludlum</td>\n",
       "      <td>227471070</td>\n",
       "      <td>1</td>\n",
       "    </tr>\n",
       "    <tr>\n",
       "      <th>14</th>\n",
       "      <td>Dark Horse Comics</td>\n",
       "      <td>210614939</td>\n",
       "      <td>1</td>\n",
       "    </tr>\n",
       "    <tr>\n",
       "      <th>15</th>\n",
       "      <td>Roald Dahl</td>\n",
       "      <td>206459076</td>\n",
       "      <td>1</td>\n",
       "    </tr>\n",
       "    <tr>\n",
       "      <th>16</th>\n",
       "      <td>Saturday Night Live - Alumni Debuts</td>\n",
       "      <td>169106725</td>\n",
       "      <td>1</td>\n",
       "    </tr>\n",
       "    <tr>\n",
       "      <th>17</th>\n",
       "      <td>Hanna-Barbera</td>\n",
       "      <td>153294164</td>\n",
       "      <td>1</td>\n",
       "    </tr>\n",
       "    <tr>\n",
       "      <th>18</th>\n",
       "      <td>Philip K. Dick</td>\n",
       "      <td>132072926</td>\n",
       "      <td>1</td>\n",
       "    </tr>\n",
       "    <tr>\n",
       "      <th>19</th>\n",
       "      <td>Dark Castle</td>\n",
       "      <td>127372794</td>\n",
       "      <td>2</td>\n",
       "    </tr>\n",
       "    <tr>\n",
       "      <th>20</th>\n",
       "      <td>Saturday Night Live</td>\n",
       "      <td>121697323</td>\n",
       "      <td>1</td>\n",
       "    </tr>\n",
       "    <tr>\n",
       "      <th>21</th>\n",
       "      <td>Alan Moore</td>\n",
       "      <td>107509799</td>\n",
       "      <td>1</td>\n",
       "    </tr>\n",
       "    <tr>\n",
       "      <th>22</th>\n",
       "      <td>Aardman</td>\n",
       "      <td>106834564</td>\n",
       "      <td>1</td>\n",
       "    </tr>\n",
       "    <tr>\n",
       "      <th>23</th>\n",
       "      <td>Disney Channel</td>\n",
       "      <td>90559416</td>\n",
       "      <td>1</td>\n",
       "    </tr>\n",
       "    <tr>\n",
       "      <th>24</th>\n",
       "      <td>Tyler Perry</td>\n",
       "      <td>90508336</td>\n",
       "      <td>1</td>\n",
       "    </tr>\n",
       "    <tr>\n",
       "      <th>25</th>\n",
       "      <td>DisneyToon Studios</td>\n",
       "      <td>90288712</td>\n",
       "      <td>1</td>\n",
       "    </tr>\n",
       "    <tr>\n",
       "      <th>26</th>\n",
       "      <td>Nicholas Sparks</td>\n",
       "      <td>81001787</td>\n",
       "      <td>1</td>\n",
       "    </tr>\n",
       "    <tr>\n",
       "      <th>27</th>\n",
       "      <td>Laika</td>\n",
       "      <td>75286229</td>\n",
       "      <td>1</td>\n",
       "    </tr>\n",
       "    <tr>\n",
       "      <th>28</th>\n",
       "      <td>Clive Barker</td>\n",
       "      <td>61186570</td>\n",
       "      <td>1</td>\n",
       "    </tr>\n",
       "    <tr>\n",
       "      <th>29</th>\n",
       "      <td>Amazon Studios</td>\n",
       "      <td>47695371</td>\n",
       "      <td>1</td>\n",
       "    </tr>\n",
       "    <tr>\n",
       "      <th>30</th>\n",
       "      <td>Disneynature</td>\n",
       "      <td>32011576</td>\n",
       "      <td>1</td>\n",
       "    </tr>\n",
       "  </tbody>\n",
       "</table>\n",
       "</div>"
      ],
      "text/plain": [
       "                                  brand  total_lifetime_gross  total_releases\n",
       "0                Tim Burton-Johnny Depp            2673528880               8\n",
       "1                             DC Comics            1066690716               2\n",
       "2                    Legendary Pictures             652270625               1\n",
       "3                  DreamWorks Animation             441226247               1\n",
       "4                                Hasbro             402111870               1\n",
       "5                          MonsterVerse             401352138               2\n",
       "6                           Nickelodeon             382409508               2\n",
       "7            Illumination Entertainment             368384330               1\n",
       "8                 Blumhouse Productions             352081330               2\n",
       "9                          Stephen King             327481748               1\n",
       "10                         John Grisham             316696734               2\n",
       "11                                  MTV             316238920               2\n",
       "12               Warner Animation Group             257760692               1\n",
       "13                        Robert Ludlum             227471070               1\n",
       "14                    Dark Horse Comics             210614939               1\n",
       "15                           Roald Dahl             206459076               1\n",
       "16  Saturday Night Live - Alumni Debuts             169106725               1\n",
       "17                        Hanna-Barbera             153294164               1\n",
       "18                       Philip K. Dick             132072926               1\n",
       "19                          Dark Castle             127372794               2\n",
       "20                  Saturday Night Live             121697323               1\n",
       "21                           Alan Moore             107509799               1\n",
       "22                              Aardman             106834564               1\n",
       "23                       Disney Channel              90559416               1\n",
       "24                          Tyler Perry              90508336               1\n",
       "25                   DisneyToon Studios              90288712               1\n",
       "26                      Nicholas Sparks              81001787               1\n",
       "27                                Laika              75286229               1\n",
       "28                         Clive Barker              61186570               1\n",
       "29                       Amazon Studios              47695371               1\n",
       "30                         Disneynature              32011576               1"
      ]
     },
     "execution_count": 5,
     "metadata": {},
     "output_type": "execute_result"
    }
   ],
   "source": [
    "%%bigquery\n",
    "CREATE or REPLACE table movies_entertainment_mrt.top_performing_companies_by_revenue_and_releases AS\n",
    "SELECT \n",
    "    c.brand, \n",
    "    SUM(b.lifetime_gross) AS total_lifetime_gross, \n",
    "    COUNT(b.id) AS total_releases\n",
    "FROM movies_entertainment_int.Companies c\n",
    "JOIN movies_entertainment_int.Box_Office_Gross b ON c.brand = b.brand\n",
    "GROUP BY c.brand\n",
    "ORDER BY total_lifetime_gross DESC, total_releases DESC"
   ]
  },
  {
   "cell_type": "markdown",
   "metadata": {},
   "source": [
    "**2.) What are the most title releases by type, genre, original release year, and rating? What does the budget look like for these movies(grouped by language for currency purposes)?**"
   ]
  },
  {
   "cell_type": "markdown",
   "metadata": {},
   "source": [
    "Netflix Performance Mart"
   ]
  },
  {
   "cell_type": "code",
   "execution_count": 17,
   "metadata": {},
   "outputs": [
    {
     "data": {
      "application/vnd.jupyter.widget-view+json": {
       "model_id": "8942d85c15f2449ead8cc2bb24b3266e",
       "version_major": 2,
       "version_minor": 0
      },
      "text/plain": [
       "Query is running:   0%|          |"
      ]
     },
     "metadata": {},
     "output_type": "display_data"
    },
    {
     "data": {
      "text/html": [
       "<div>\n",
       "<style scoped>\n",
       "    .dataframe tbody tr th:only-of-type {\n",
       "        vertical-align: middle;\n",
       "    }\n",
       "\n",
       "    .dataframe tbody tr th {\n",
       "        vertical-align: top;\n",
       "    }\n",
       "\n",
       "    .dataframe thead th {\n",
       "        text-align: right;\n",
       "    }\n",
       "</style>\n",
       "<table border=\"1\" class=\"dataframe\">\n",
       "  <thead>\n",
       "    <tr style=\"text-align: right;\">\n",
       "      <th></th>\n",
       "    </tr>\n",
       "  </thead>\n",
       "  <tbody>\n",
       "  </tbody>\n",
       "</table>\n",
       "</div>"
      ],
      "text/plain": [
       "Empty DataFrame\n",
       "Columns: []\n",
       "Index: []"
      ]
     },
     "execution_count": 17,
     "metadata": {},
     "output_type": "execute_result"
    }
   ],
   "source": [
    "%%bigquery\n",
    "CREATE or REPLACE table movies_entertainment_mrt.netflix_performance AS\n",
    "SELECT \n",
    "    n.original_type, \n",
    "    m.genre, \n",
    "    n.original_release_year, \n",
    "    n.original_rating, \n",
    "    COUNT(n.id) AS total_titles\n",
    "FROM movies_entertainment_int.Netflix_Movies_And_Tvshows n\n",
    "JOIN movies_entertainment_int.Movies_Metadata m ON n.id = SAFE_CAST(m.id as STRING)\n",
    "WHERE n.original_rating IS NOT NULL\n",
    "GROUP BY n.original_type, m.genre, n.original_release_year, n.original_rating\n",
    "ORDER BY total_titles DESC"
   ]
  },
  {
   "cell_type": "markdown",
   "metadata": {},
   "source": [
    "IMDB Movie Metadata Mart"
   ]
  },
  {
   "cell_type": "code",
   "execution_count": 18,
   "metadata": {},
   "outputs": [
    {
     "data": {
      "application/vnd.jupyter.widget-view+json": {
       "model_id": "c1b98490f963401690a89a86ae8e89d1",
       "version_major": 2,
       "version_minor": 0
      },
      "text/plain": [
       "Query is running:   0%|          |"
      ]
     },
     "metadata": {},
     "output_type": "display_data"
    },
    {
     "data": {
      "text/html": [
       "<div>\n",
       "<style scoped>\n",
       "    .dataframe tbody tr th:only-of-type {\n",
       "        vertical-align: middle;\n",
       "    }\n",
       "\n",
       "    .dataframe tbody tr th {\n",
       "        vertical-align: top;\n",
       "    }\n",
       "\n",
       "    .dataframe thead th {\n",
       "        text-align: right;\n",
       "    }\n",
       "</style>\n",
       "<table border=\"1\" class=\"dataframe\">\n",
       "  <thead>\n",
       "    <tr style=\"text-align: right;\">\n",
       "      <th></th>\n",
       "    </tr>\n",
       "  </thead>\n",
       "  <tbody>\n",
       "  </tbody>\n",
       "</table>\n",
       "</div>"
      ],
      "text/plain": [
       "Empty DataFrame\n",
       "Columns: []\n",
       "Index: []"
      ]
     },
     "execution_count": 18,
     "metadata": {},
     "output_type": "execute_result"
    }
   ],
   "source": [
    "%%bigquery\n",
    "CREATE or REPLACE table movies_entertainment_mrt.imdb_movies_metadata AS\n",
    "SELECT \n",
    "    m.original_language, \n",
    "    COUNT(m.id) AS total_movies, \n",
    "    n.original_rating, \n",
    "    CASE \n",
    "        WHEN m.budget < 1000000 THEN 'Low Budget (<1M)' \n",
    "        WHEN m.budget BETWEEN 1000000 AND 50000000 THEN 'Medium Budget (1M-50M)' \n",
    "        ELSE 'High Budget (>50M)' \n",
    "    END AS budget_category\n",
    "FROM movies_entertainment_int.Movies_Metadata m\n",
    "LEFT JOIN movies_entertainment_int.Netflix_Movies_And_Tvshows n ON SAFE_CAST(m.id as STRING) = n.id\n",
    "WHERE m.budget IS NOT NULL AND n.original_rating IS NOT NULL\n",
    "GROUP BY m.original_language, n.original_rating, budget_category\n",
    "ORDER BY total_movies DESC"
   ]
  },
  {
   "cell_type": "markdown",
   "metadata": {},
   "source": [
    "**3.) How does the budget of a movie correlate with its box office gross performance?**"
   ]
  },
  {
   "cell_type": "markdown",
   "metadata": {},
   "source": [
    "Box Office vs. Budget Mart"
   ]
  },
  {
   "cell_type": "code",
   "execution_count": 19,
   "metadata": {},
   "outputs": [
    {
     "data": {
      "application/vnd.jupyter.widget-view+json": {
       "model_id": "71e3fd796dff490582f2cba7c65f3f37",
       "version_major": 2,
       "version_minor": 0
      },
      "text/plain": [
       "Query is running:   0%|          |"
      ]
     },
     "metadata": {},
     "output_type": "display_data"
    },
    {
     "data": {
      "text/html": [
       "<div>\n",
       "<style scoped>\n",
       "    .dataframe tbody tr th:only-of-type {\n",
       "        vertical-align: middle;\n",
       "    }\n",
       "\n",
       "    .dataframe tbody tr th {\n",
       "        vertical-align: top;\n",
       "    }\n",
       "\n",
       "    .dataframe thead th {\n",
       "        text-align: right;\n",
       "    }\n",
       "</style>\n",
       "<table border=\"1\" class=\"dataframe\">\n",
       "  <thead>\n",
       "    <tr style=\"text-align: right;\">\n",
       "      <th></th>\n",
       "    </tr>\n",
       "  </thead>\n",
       "  <tbody>\n",
       "  </tbody>\n",
       "</table>\n",
       "</div>"
      ],
      "text/plain": [
       "Empty DataFrame\n",
       "Columns: []\n",
       "Index: []"
      ]
     },
     "execution_count": 19,
     "metadata": {},
     "output_type": "execute_result"
    }
   ],
   "source": [
    "%%bigquery\n",
    "CREATE or REPLACE table movies_entertainment_mrt.box_office_vs_budget AS\n",
    "SELECT \n",
    "    m.id AS movie_id,\n",
    "    m.original_title,\n",
    "    m.genre,\n",
    "    m.budget,\n",
    "    b.lifetime_gross,\n",
    "    CASE \n",
    "        WHEN m.budget = 0 THEN NULL\n",
    "        ELSE ROUND((b.lifetime_gross - m.budget) / NULLIF(m.budget, 0), 2) \n",
    "    END AS roi_percentage\n",
    "FROM movies_entertainment_int.Movies_Metadata m\n",
    "JOIN movies_entertainment_int.Box_Office_Gross b \n",
    "    ON m.id = b.id\n",
    "WHERE m.budget IS NOT NULL \n",
    "    AND b.lifetime_gross IS NOT NULL\n",
    "    AND m.budget > 0\n",
    "ORDER BY roi_percentage DESC"
   ]
  },
  {
   "cell_type": "markdown",
   "metadata": {},
   "source": [
    "**4.) Which genres are most frequently produced, and how do they perform across different companies?**"
   ]
  },
  {
   "cell_type": "markdown",
   "metadata": {},
   "source": [
    "Genre Performance Mart"
   ]
  },
  {
   "cell_type": "code",
   "execution_count": 20,
   "metadata": {},
   "outputs": [
    {
     "data": {
      "application/vnd.jupyter.widget-view+json": {
       "model_id": "8117fb5271cc47e6bb9fb0c1a7e518f3",
       "version_major": 2,
       "version_minor": 0
      },
      "text/plain": [
       "Query is running:   0%|          |"
      ]
     },
     "metadata": {},
     "output_type": "display_data"
    },
    {
     "data": {
      "text/html": [
       "<div>\n",
       "<style scoped>\n",
       "    .dataframe tbody tr th:only-of-type {\n",
       "        vertical-align: middle;\n",
       "    }\n",
       "\n",
       "    .dataframe tbody tr th {\n",
       "        vertical-align: top;\n",
       "    }\n",
       "\n",
       "    .dataframe thead th {\n",
       "        text-align: right;\n",
       "    }\n",
       "</style>\n",
       "<table border=\"1\" class=\"dataframe\">\n",
       "  <thead>\n",
       "    <tr style=\"text-align: right;\">\n",
       "      <th></th>\n",
       "    </tr>\n",
       "  </thead>\n",
       "  <tbody>\n",
       "  </tbody>\n",
       "</table>\n",
       "</div>"
      ],
      "text/plain": [
       "Empty DataFrame\n",
       "Columns: []\n",
       "Index: []"
      ]
     },
     "execution_count": 20,
     "metadata": {},
     "output_type": "execute_result"
    }
   ],
   "source": [
    "%%bigquery\n",
    "create or replace table movies_entertainment_mrt.genre_performance AS\n",
    "SELECT \n",
    "    m.genre, \n",
    "    COUNT(m.id) AS total_movies, \n",
    "    SUM(b.lifetime_gross) AS total_revenue, \n",
    "    ROUND(AVG(b.lifetime_gross), 2) AS avg_revenue_per_movie\n",
    "FROM movies_entertainment_int.Movies_Metadata m\n",
    "JOIN movies_entertainment_int.Box_Office_Gross b ON m.id = b.id\n",
    "WHERE m.genre IS NOT NULL AND b.lifetime_gross IS NOT NULL\n",
    "GROUP BY m.genre\n",
    "ORDER BY total_movies DESC, total_revenue DESC\n"
   ]
  },
  {
   "cell_type": "markdown",
   "metadata": {},
   "source": [
    "Company Genre Trends Mart"
   ]
  },
  {
   "cell_type": "code",
   "execution_count": 21,
   "metadata": {},
   "outputs": [
    {
     "data": {
      "application/vnd.jupyter.widget-view+json": {
       "model_id": "1b1aec680fb046d4ae88564e7cefce38",
       "version_major": 2,
       "version_minor": 0
      },
      "text/plain": [
       "Query is running:   0%|          |"
      ]
     },
     "metadata": {},
     "output_type": "display_data"
    },
    {
     "data": {
      "text/html": [
       "<div>\n",
       "<style scoped>\n",
       "    .dataframe tbody tr th:only-of-type {\n",
       "        vertical-align: middle;\n",
       "    }\n",
       "\n",
       "    .dataframe tbody tr th {\n",
       "        vertical-align: top;\n",
       "    }\n",
       "\n",
       "    .dataframe thead th {\n",
       "        text-align: right;\n",
       "    }\n",
       "</style>\n",
       "<table border=\"1\" class=\"dataframe\">\n",
       "  <thead>\n",
       "    <tr style=\"text-align: right;\">\n",
       "      <th></th>\n",
       "    </tr>\n",
       "  </thead>\n",
       "  <tbody>\n",
       "  </tbody>\n",
       "</table>\n",
       "</div>"
      ],
      "text/plain": [
       "Empty DataFrame\n",
       "Columns: []\n",
       "Index: []"
      ]
     },
     "execution_count": 21,
     "metadata": {},
     "output_type": "execute_result"
    }
   ],
   "source": [
    "%%bigquery\n",
    "create or replace table movies_entertainment_mrt.company_genre_trends AS\n",
    "SELECT \n",
    "    c.brand, \n",
    "    m.genre, \n",
    "    COUNT(m.id) AS total_movies, \n",
    "    SUM(b.lifetime_gross) AS total_revenue, \n",
    "    ROUND(AVG(b.lifetime_gross), 2) AS avg_revenue_per_movie\n",
    "FROM movies_entertainment_int.Movies_Metadata m\n",
    "JOIN movies_entertainment_int.Box_Office_Gross b ON m.id = b.id\n",
    "JOIN movies_entertainment_int.Companies c ON b.brand = c.brand\n",
    "WHERE m.genre IS NOT NULL AND b.lifetime_gross IS NOT NULL\n",
    "GROUP BY c.brand, m.genre\n",
    "ORDER BY total_revenue DESC"
   ]
  },
  {
   "cell_type": "markdown",
   "metadata": {},
   "source": [
    "**5.) How do audience ratings (PG, PG-13, R, etc.) correlate with movie budgets, revenue, and genre trends?**"
   ]
  },
  {
   "cell_type": "markdown",
   "metadata": {},
   "source": [
    "Audience Rating vs. Budget Mart"
   ]
  },
  {
   "cell_type": "code",
   "execution_count": 22,
   "metadata": {},
   "outputs": [
    {
     "data": {
      "application/vnd.jupyter.widget-view+json": {
       "model_id": "7b27a919ea3f4a078767eeb32b11edb2",
       "version_major": 2,
       "version_minor": 0
      },
      "text/plain": [
       "Query is running:   0%|          |"
      ]
     },
     "metadata": {},
     "output_type": "display_data"
    },
    {
     "data": {
      "text/html": [
       "<div>\n",
       "<style scoped>\n",
       "    .dataframe tbody tr th:only-of-type {\n",
       "        vertical-align: middle;\n",
       "    }\n",
       "\n",
       "    .dataframe tbody tr th {\n",
       "        vertical-align: top;\n",
       "    }\n",
       "\n",
       "    .dataframe thead th {\n",
       "        text-align: right;\n",
       "    }\n",
       "</style>\n",
       "<table border=\"1\" class=\"dataframe\">\n",
       "  <thead>\n",
       "    <tr style=\"text-align: right;\">\n",
       "      <th></th>\n",
       "    </tr>\n",
       "  </thead>\n",
       "  <tbody>\n",
       "  </tbody>\n",
       "</table>\n",
       "</div>"
      ],
      "text/plain": [
       "Empty DataFrame\n",
       "Columns: []\n",
       "Index: []"
      ]
     },
     "execution_count": 22,
     "metadata": {},
     "output_type": "execute_result"
    }
   ],
   "source": [
    "%%bigquery\n",
    "create or replace table movies_entertainment_mrt.audience_rating_vs_budget AS\n",
    "SELECT \n",
    "    n.original_rating, \n",
    "    COUNT(m.id) AS total_movies, \n",
    "    ROUND(AVG(m.budget), 2) AS avg_budget, \n",
    "    MAX(m.budget) AS max_budget, \n",
    "    MIN(m.budget) AS min_budget\n",
    "FROM movies_entertainment_int.Movies_Metadata m\n",
    "JOIN movies_entertainment_int.Netflix_Movies_And_Tvshows n ON SAFE_CAST(m.id as STRING) = n.id\n",
    "WHERE n.original_rating IS NOT NULL AND m.budget IS NOT NULL \n",
    "GROUP BY n.original_rating\n",
    "ORDER BY avg_budget DESC\n",
    "\n"
   ]
  },
  {
   "cell_type": "markdown",
   "metadata": {},
   "source": [
    "Audience Rating vs. Revenue Mart"
   ]
  },
  {
   "cell_type": "code",
   "execution_count": 23,
   "metadata": {},
   "outputs": [
    {
     "data": {
      "application/vnd.jupyter.widget-view+json": {
       "model_id": "1fb13cefc8dd4b0eaf44dca524c2750a",
       "version_major": 2,
       "version_minor": 0
      },
      "text/plain": [
       "Query is running:   0%|          |"
      ]
     },
     "metadata": {},
     "output_type": "display_data"
    },
    {
     "data": {
      "text/html": [
       "<div>\n",
       "<style scoped>\n",
       "    .dataframe tbody tr th:only-of-type {\n",
       "        vertical-align: middle;\n",
       "    }\n",
       "\n",
       "    .dataframe tbody tr th {\n",
       "        vertical-align: top;\n",
       "    }\n",
       "\n",
       "    .dataframe thead th {\n",
       "        text-align: right;\n",
       "    }\n",
       "</style>\n",
       "<table border=\"1\" class=\"dataframe\">\n",
       "  <thead>\n",
       "    <tr style=\"text-align: right;\">\n",
       "      <th></th>\n",
       "    </tr>\n",
       "  </thead>\n",
       "  <tbody>\n",
       "  </tbody>\n",
       "</table>\n",
       "</div>"
      ],
      "text/plain": [
       "Empty DataFrame\n",
       "Columns: []\n",
       "Index: []"
      ]
     },
     "execution_count": 23,
     "metadata": {},
     "output_type": "execute_result"
    }
   ],
   "source": [
    "%%bigquery\n",
    "create or replace table movies_entertainment_mrt.audience_rating_vs_revenue AS\n",
    "SELECT \n",
    "    n.original_rating, \n",
    "    COUNT(m.id) AS total_movies, \n",
    "    SUM(b.lifetime_gross) AS total_revenue, \n",
    "    ROUND(AVG(b.lifetime_gross), 2) AS avg_revenue_per_movie\n",
    "FROM movies_entertainment_int.Movies_Metadata m\n",
    "JOIN movies_entertainment_int.Box_Office_Gross b ON m.id = b.id\n",
    "JOIN movies_entertainment_int.Netflix_Movies_And_Tvshows n ON SAFE_CAST(m.id as STRING) = n.id\n",
    "WHERE n.original_rating IS NOT NULL AND b.lifetime_gross IS NOT NULL\n",
    "GROUP BY n.original_rating\n",
    "ORDER BY total_revenue DESC\n",
    "\n"
   ]
  },
  {
   "cell_type": "markdown",
   "metadata": {},
   "source": [
    "Audience Rating vs. Genre Trends Mart"
   ]
  },
  {
   "cell_type": "code",
   "execution_count": 24,
   "metadata": {},
   "outputs": [
    {
     "data": {
      "application/vnd.jupyter.widget-view+json": {
       "model_id": "2c64c73239a9461d841f8e4d3458621e",
       "version_major": 2,
       "version_minor": 0
      },
      "text/plain": [
       "Query is running:   0%|          |"
      ]
     },
     "metadata": {},
     "output_type": "display_data"
    },
    {
     "data": {
      "text/html": [
       "<div>\n",
       "<style scoped>\n",
       "    .dataframe tbody tr th:only-of-type {\n",
       "        vertical-align: middle;\n",
       "    }\n",
       "\n",
       "    .dataframe tbody tr th {\n",
       "        vertical-align: top;\n",
       "    }\n",
       "\n",
       "    .dataframe thead th {\n",
       "        text-align: right;\n",
       "    }\n",
       "</style>\n",
       "<table border=\"1\" class=\"dataframe\">\n",
       "  <thead>\n",
       "    <tr style=\"text-align: right;\">\n",
       "      <th></th>\n",
       "    </tr>\n",
       "  </thead>\n",
       "  <tbody>\n",
       "  </tbody>\n",
       "</table>\n",
       "</div>"
      ],
      "text/plain": [
       "Empty DataFrame\n",
       "Columns: []\n",
       "Index: []"
      ]
     },
     "execution_count": 24,
     "metadata": {},
     "output_type": "execute_result"
    }
   ],
   "source": [
    "%%bigquery\n",
    "create or replace table movies_entertainment_mrt.audience_rating_vs_genre AS\n",
    "SELECT \n",
    "    m.genre, \n",
    "    n.original_rating, \n",
    "    COUNT(m.id) AS total_movies\n",
    "FROM movies_entertainment_int.Movies_Metadata m\n",
    "JOIN movies_entertainment_int.Netflix_Movies_And_Tvshows n ON SAFE_CAST(m.id as STRING) = n.id\n",
    "WHERE n.original_rating IS NOT NULL AND m.genre IS NOT NULL\n",
    "GROUP BY m.genre, n.original_rating\n",
    "ORDER BY m.genre, total_movies DESC\n"
   ]
  }
 ],
 "metadata": {
  "kernelspec": {
   "display_name": "Python 3",
   "language": "python",
   "name": "python3"
  },
  "language_info": {
   "codemirror_mode": {
    "name": "ipython",
    "version": 3
   },
   "file_extension": ".py",
   "mimetype": "text/x-python",
   "name": "python",
   "nbconvert_exporter": "python",
   "pygments_lexer": "ipython3",
   "version": "3.11.6"
  }
 },
 "nbformat": 4,
 "nbformat_minor": 2
}
