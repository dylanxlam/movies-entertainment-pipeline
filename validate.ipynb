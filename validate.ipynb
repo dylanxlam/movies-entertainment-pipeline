{
 "cells": [
  {
   "cell_type": "code",
   "execution_count": 2,
   "metadata": {},
   "outputs": [
    {
     "name": "stdout",
     "output_type": "stream",
     "text": [
      "               movie_title  movie_id\n",
      "32                       9         2\n",
      "57           A Perfect Man         2\n",
      "59         A Second Chance         2\n",
      "76                Accident         2\n",
      "80                  Adrift         2\n",
      "83                   After         2\n",
      "84              After Life         2\n",
      "86               Aftermath         6\n",
      "88              Aftershock         2\n",
      "104                  Alone         4\n",
      "121                    Amy         2\n",
      "146                 Arthur         2\n",
      "156                 Aurora         3\n",
      "174               Backfire         3\n",
      "176               Bad Boys         4\n",
      "199             Be with Me         2\n",
      "201  Beauties of the Night         2\n",
      "210     Behind Enemy Lines         2\n",
      "214                  Benji         2\n",
      "215                Beowulf         2\n"
     ]
    },
    {
     "name": "stderr",
     "output_type": "stream",
     "text": [
      "/var/folders/gp/2fjqrh9x7xxb3vsdhj8sqp240000gn/T/ipykernel_17073/1153484257.py:4: DtypeWarning: Columns (10) have mixed types. Specify dtype option on import or set low_memory=False.\n",
      "  movies_metadata = pd.read_csv(\"/Users/dylanlam/Documents/GitHub/dylan_eric_sp25/project1/data_files/movies_metadata/movies_metadata.csv\")\n"
     ]
    }
   ],
   "source": [
    "import pandas as pd\n",
    "\n",
    "# Load the datasets\n",
    "movies_metadata = pd.read_csv(\"/Users/dylanlam/Documents/GitHub/dylan_eric_sp25/project1/data_files/movies_metadata/movies_metadata.csv\")\n",
    "netflix_titles = pd.read_csv(\"/Users/dylanlam/Documents/GitHub/dylan_eric_sp25/project1/data_files/netflix_movies_and_tv_shows/netflix_titles.csv\")\n",
    "\n",
    "# Standardize column names for comparison\n",
    "movies_metadata.rename(columns={\"title\": \"movie_title\", \"id\": \"movie_id\"}, inplace=True)\n",
    "netflix_titles.rename(columns={\"title\": \"movie_title\"}, inplace=True)\n",
    "\n",
    "# Merge datasets based on movie title\n",
    "merged_movies = movies_metadata.merge(netflix_titles, on=\"movie_title\", how=\"inner\")\n",
    "\n",
    "# Identify movies that have different IDs\n",
    "conflicting_ids = merged_movies.groupby(\"movie_title\")[\"movie_id\"].nunique().reset_index()\n",
    "conflicting_ids = conflicting_ids[conflicting_ids[\"movie_id\"] > 1]\n",
    "\n",
    "# Show the first few rows of movies with conflicting identifiers\n",
    "print(conflicting_ids.head(20))"
   ]
  },
  {
   "cell_type": "code",
   "execution_count": 3,
   "metadata": {},
   "outputs": [
    {
     "name": "stdout",
     "output_type": "stream",
     "text": [
      "                       movie_title  genres\n",
      "62                      10 Minutes       2\n",
      "127                   12 Angry Men       2\n",
      "248   20,000 Leagues Under the Sea       4\n",
      "325                           2:22       2\n",
      "398                   3:10 to Yuma       2\n",
      "431                       47 Ronin       2\n",
      "521                              8       2\n",
      "550                              9       2\n",
      "605              A Better Tomorrow       2\n",
      "648              A Bucket of Blood       2\n",
      "674          A Chinese Ghost Story       2\n",
      "679              A Christmas Carol       7\n",
      "746              A Dangerous Place       2\n",
      "880           A Girl in Every Port       2\n",
      "893                A Good Marriage       2\n",
      "940             A Hole in the Head       2\n",
      "975            A Kiss Before Dying       2\n",
      "998        A Letter to Three Wives       2\n",
      "1014          A Little Night Music       2\n",
      "1015             A Little Princess       2\n"
     ]
    }
   ],
   "source": [
    "# Check if movies have inconsistent genre labels\n",
    "genre_conflicts = movies_metadata.groupby(\"movie_title\")[\"genres\"].nunique().reset_index()\n",
    "genre_conflicts = genre_conflicts[genre_conflicts[\"genres\"] > 1]\n",
    "\n",
    "# Show movies with conflicting genres\n",
    "print(genre_conflicts.head(20))\n"
   ]
  },
  {
   "cell_type": "code",
   "execution_count": 12,
   "metadata": {},
   "outputs": [
    {
     "data": {
      "text/html": [
       "<div>\n",
       "<style scoped>\n",
       "    .dataframe tbody tr th:only-of-type {\n",
       "        vertical-align: middle;\n",
       "    }\n",
       "\n",
       "    .dataframe tbody tr th {\n",
       "        vertical-align: top;\n",
       "    }\n",
       "\n",
       "    .dataframe thead th {\n",
       "        text-align: right;\n",
       "    }\n",
       "</style>\n",
       "<table border=\"1\" class=\"dataframe\">\n",
       "  <thead>\n",
       "    <tr style=\"text-align: right;\">\n",
       "      <th></th>\n",
       "      <th>original_title</th>\n",
       "      <th>genres</th>\n",
       "    </tr>\n",
       "  </thead>\n",
       "  <tbody>\n",
       "    <tr>\n",
       "      <th>133</th>\n",
       "      <td>12 Angry Men</td>\n",
       "      <td>{[{'id': 80, 'name': 'Crime'}, {'id': 18, 'nam...</td>\n",
       "    </tr>\n",
       "  </tbody>\n",
       "</table>\n",
       "</div>"
      ],
      "text/plain": [
       "    original_title                                             genres\n",
       "133   12 Angry Men  {[{'id': 80, 'name': 'Crime'}, {'id': 18, 'nam..."
      ]
     },
     "execution_count": 12,
     "metadata": {},
     "output_type": "execute_result"
    }
   ],
   "source": [
    "import pandas as pd\n",
    "\n",
    "# Load the dataset\n",
    "\n",
    "# Group by movie title and list all unique genre combinations\n",
    "genre_mappings = movies_metadata.groupby(\"original_title\")[\"genres\"].apply(set).reset_index()\n",
    "\n",
    "# Count how many unique genre lists exist per movie\n",
    "genre_mappings[\"genre_count\"] = genre_mappings[\"genres\"].apply(len)\n",
    "\n",
    "# Filter only movies that have more than one unique genre list (inconsistent mapping)\n",
    "inconsistent_movies = genre_mappings[genre_mappings[\"genre_count\"] > 1]\n",
    "\n",
    "# Show one example movie that violates functional dependencies\n",
    "inconsistent_movies[[\"original_title\", \"genres\"]].head(1)\n",
    "\n"
   ]
  }
 ],
 "metadata": {
  "kernelspec": {
   "display_name": "myenv",
   "language": "python",
   "name": "python3"
  },
  "language_info": {
   "codemirror_mode": {
    "name": "ipython",
    "version": 3
   },
   "file_extension": ".py",
   "mimetype": "text/x-python",
   "name": "python",
   "nbconvert_exporter": "python",
   "pygments_lexer": "ipython3",
   "version": "3.8.17"
  },
  "orig_nbformat": 4
 },
 "nbformat": 4,
 "nbformat_minor": 2
}
