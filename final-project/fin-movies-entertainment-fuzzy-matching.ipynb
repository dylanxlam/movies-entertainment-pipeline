{
 "cells": [
  {
   "cell_type": "markdown",
   "metadata": {},
   "source": [
    "### Final Project: Fuzzy matching of movies and entertainment data"
   ]
  },
  {
   "cell_type": "code",
   "execution_count": 1,
   "metadata": {},
   "outputs": [],
   "source": [
    "from google.cloud import bigquery"
   ]
  },
  {
   "cell_type": "code",
   "execution_count": 2,
   "metadata": {},
   "outputs": [
    {
     "name": "stderr",
     "output_type": "stream",
     "text": [
      "/Users/dylanlam/miniconda3/lib/python3.11/site-packages/google/cloud/bigquery/__init__.py:237: FutureWarning: %load_ext google.cloud.bigquery is deprecated. Install bigquery-magics package and use `%load_ext bigquery_magics`, instead.\n",
      "  warnings.warn(\n"
     ]
    }
   ],
   "source": [
    "%load_ext google.cloud.bigquery"
   ]
  },
  {
   "cell_type": "markdown",
   "metadata": {},
   "source": [
    "### Step 1: Environment Setup\n",
    "\n",
    "We define the key configuration values for:\n",
    "- Project ID\n",
    "- Dataset name for final outputs (`fin_movies_entertainment`)\n",
    "- BigQuery region (`us-central1`)\n",
    "- Vertex AI connection ID\n",
    "- Gemini & Embedding model names\n"
   ]
  },
  {
   "cell_type": "code",
   "execution_count": 3,
   "metadata": {},
   "outputs": [],
   "source": [
    "project_id = \"dylanericsp25\"\n",
    "dataset = \"fin_movies_entertainment\"\n",
    "region = \"us-central1\"\n",
    "connection_id = \"vertex-connection\" # BQ requires a connection to call the model in Vertex\n",
    "embedding_model = \"text-embedding-005\"  # latest gecko embeddings model as of 04/18/25\n",
    "gemini_model = \"gemini-2.5-flash-preview-04-17\" # latest gemini flash model as of 04/18/25"
   ]
  },
  {
   "cell_type": "markdown",
   "metadata": {},
   "source": [
    "### Step 2: Create BigQuery Dataset\n",
    "\n",
    "We create the final dataset in BigQuery (`fin_movies_entertainment`) where all embeddings and cluster outputs will be stored.\n"
   ]
  },
  {
   "cell_type": "code",
   "execution_count": 4,
   "metadata": {},
   "outputs": [
    {
     "name": "stdout",
     "output_type": "stream",
     "text": [
      "Created dataset dylanericsp25.fin_movies_entertainment\n"
     ]
    }
   ],
   "source": [
    "from google.cloud import bigquery\n",
    "\n",
    "bq_client = bigquery.Client()\n",
    "\n",
    "dataset_id = bigquery.Dataset(f\"{project_id}.{dataset}\")\n",
    "dataset_id.location = region\n",
    "resp = bq_client.create_dataset(dataset_id, exists_ok=True)\n",
    "print(\"Created dataset {}.{}\".format(bq_client.project, resp.dataset_id))"
   ]
  },
  {
   "cell_type": "markdown",
   "metadata": {},
   "source": [
    "### Step 3: Create Vertex AI Connection & Grant Permissions\n",
    "\n",
    "BigQuery must be authorized to call Vertex AI to generate embeddings. We:\n",
    "1. Create a `CLOUD_RESOURCE` connection in BigQuery.\n",
    "2. Grant `Vertex AI User` permissions to the service account used by BigQuery for model access.\n"
   ]
  },
  {
   "cell_type": "code",
   "execution_count": 5,
   "metadata": {},
   "outputs": [
    {
     "name": "stdout",
     "output_type": "stream",
     "text": [
      "\n",
      "\n",
      "Updates are available for some Google Cloud CLI components.  To install them,\n",
      "please run:\n",
      "  $ gcloud components update\n",
      "\n",
      "BigQuery error in mk operation: Already Exists: Connection\n",
      "projects/960753582873/locations/us-central1/connections/vertex-connection\n"
     ]
    }
   ],
   "source": [
    "!bq mk --connection --location=$region --project_id=$project_id \\\n",
    "    --connection_type=CLOUD_RESOURCE $connection_id"
   ]
  },
  {
   "cell_type": "code",
   "execution_count": 6,
   "metadata": {},
   "outputs": [
    {
     "name": "stdout",
     "output_type": "stream",
     "text": [
      "Connection 798706649102.us-central1.vertex-connection\n",
      "\n",
      "                     name                      friendlyName   description    Last modified         type        hasCredential                                            properties                                            \n",
      " -------------------------------------------- -------------- ------------- ----------------- ---------------- --------------- ----------------------------------------------------------------------------------------------- \n",
      "  798706649102.us-central1.vertex-connection                                13 Apr 17:14:41   CLOUD_RESOURCE   False           {\"serviceAccountId\": \"bqcx-798706649102-xf2e@gcp-sa-bigquery-condel.iam.gserviceaccount.com\"}  \n",
      "\n"
     ]
    }
   ],
   "source": [
    "!bq show --connection 798706649102.us-central1.vertex-connection"
   ]
  },
  {
   "cell_type": "code",
   "execution_count": 7,
   "metadata": {},
   "outputs": [],
   "source": [
    "!gcloud projects add-iam-policy-binding $project_id --member='serviceAccount:bqcx-798706649102-xf2e@gcp-sa-bigquery-condel.iam.gserviceaccount.com' \\\n",
    "  --role='roles/aiplatform.user' --no-user-output-enabled"
   ]
  },
  {
   "cell_type": "markdown",
   "metadata": {},
   "source": [
    "### Step 4: Create Remote Embedding Model in BigQuery\n",
    "\n",
    "This creates a BigQuery model that points to the Vertex AI embedding model `text-embedding-005`. We’ll use this model to embed movie titles into high-dimensional vectors.\n"
   ]
  },
  {
   "cell_type": "code",
   "execution_count": 18,
   "metadata": {},
   "outputs": [
    {
     "data": {
      "application/vnd.jupyter.widget-view+json": {
       "model_id": "bcf71f14b45446b4be665f491bc08d49",
       "version_major": 2,
       "version_minor": 0
      },
      "text/plain": [
       "Query is running:   0%|          |"
      ]
     },
     "metadata": {},
     "output_type": "display_data"
    },
    {
     "data": {
      "text/html": [
       "<div>\n",
       "<style scoped>\n",
       "    .dataframe tbody tr th:only-of-type {\n",
       "        vertical-align: middle;\n",
       "    }\n",
       "\n",
       "    .dataframe tbody tr th {\n",
       "        vertical-align: top;\n",
       "    }\n",
       "\n",
       "    .dataframe thead th {\n",
       "        text-align: right;\n",
       "    }\n",
       "</style>\n",
       "<table border=\"1\" class=\"dataframe\">\n",
       "  <thead>\n",
       "    <tr style=\"text-align: right;\">\n",
       "      <th></th>\n",
       "    </tr>\n",
       "  </thead>\n",
       "  <tbody>\n",
       "  </tbody>\n",
       "</table>\n",
       "</div>"
      ],
      "text/plain": [
       "Empty DataFrame\n",
       "Columns: []\n",
       "Index: []"
      ]
     },
     "execution_count": 18,
     "metadata": {},
     "output_type": "execute_result"
    }
   ],
   "source": [
    "%%bigquery\n",
    "create or replace model fin_movies_entertainment.embedding_model\n",
    "  remote with connection `projects/dylanericsp25/locations/us-central1/connections/vertex-connection`\n",
    "  options (endpoint = 'text-embedding-005');"
   ]
  },
  {
   "cell_type": "markdown",
   "metadata": {},
   "source": [
    "### Step 5: Generate Embeddings for Netflix Titles\n",
    "\n",
    "We use `ML.GENERATE_EMBEDDING` to generate vector representations of movie titles from our staging table `movies_entertainment_stg.netflix_movies_and_tvshows`. The resulting vectors are stored in a temporary table.\n"
   ]
  },
  {
   "cell_type": "code",
   "execution_count": 9,
   "metadata": {},
   "outputs": [
    {
     "data": {
      "application/vnd.jupyter.widget-view+json": {
       "model_id": "e9dedef185124bab99b6bc5301d486ac",
       "version_major": 2,
       "version_minor": 0
      },
      "text/plain": [
       "Query is running:   0%|          |"
      ]
     },
     "metadata": {},
     "output_type": "display_data"
    },
    {
     "data": {
      "text/html": [
       "<div>\n",
       "<style scoped>\n",
       "    .dataframe tbody tr th:only-of-type {\n",
       "        vertical-align: middle;\n",
       "    }\n",
       "\n",
       "    .dataframe tbody tr th {\n",
       "        vertical-align: top;\n",
       "    }\n",
       "\n",
       "    .dataframe thead th {\n",
       "        text-align: right;\n",
       "    }\n",
       "</style>\n",
       "<table border=\"1\" class=\"dataframe\">\n",
       "  <thead>\n",
       "    <tr style=\"text-align: right;\">\n",
       "      <th></th>\n",
       "    </tr>\n",
       "  </thead>\n",
       "  <tbody>\n",
       "  </tbody>\n",
       "</table>\n",
       "</div>"
      ],
      "text/plain": [
       "Empty DataFrame\n",
       "Columns: []\n",
       "Index: []"
      ]
     },
     "execution_count": 9,
     "metadata": {},
     "output_type": "execute_result"
    }
   ],
   "source": [
    "%%bigquery --location=us-central1\n",
    "CREATE OR REPLACE TABLE fin_movies_entertainment.temp_embeddings AS\n",
    "SELECT *\n",
    "FROM ML.GENERATE_EMBEDDING(\n",
    "  MODEL `fin_movies_entertainment.embedding_model`,\n",
    "  (\n",
    "    SELECT \n",
    "      show_id, \n",
    "      title,\n",
    "      title AS content\n",
    "    FROM `dylanericsp25.movies_entertainment_stg.netflix_movies_and_tvshows`\n",
    "    WHERE title IS NOT NULL\n",
    "  )\n",
    ");\n",
    "\n"
   ]
  },
  {
   "cell_type": "code",
   "execution_count": 10,
   "metadata": {},
   "outputs": [
    {
     "data": {
      "application/vnd.jupyter.widget-view+json": {
       "model_id": "301c02b326bf4c3fa5de2d34ad59c9fe",
       "version_major": 2,
       "version_minor": 0
      },
      "text/plain": [
       "Query is running:   0%|          |"
      ]
     },
     "metadata": {},
     "output_type": "display_data"
    },
    {
     "data": {
      "application/vnd.jupyter.widget-view+json": {
       "model_id": "708df8eeb7934e0fa39caaa7e9be7dd9",
       "version_major": 2,
       "version_minor": 0
      },
      "text/plain": [
       "Downloading:   0%|          |"
      ]
     },
     "metadata": {},
     "output_type": "display_data"
    },
    {
     "data": {
      "text/html": [
       "<div>\n",
       "<style scoped>\n",
       "    .dataframe tbody tr th:only-of-type {\n",
       "        vertical-align: middle;\n",
       "    }\n",
       "\n",
       "    .dataframe tbody tr th {\n",
       "        vertical-align: top;\n",
       "    }\n",
       "\n",
       "    .dataframe thead th {\n",
       "        text-align: right;\n",
       "    }\n",
       "</style>\n",
       "<table border=\"1\" class=\"dataframe\">\n",
       "  <thead>\n",
       "    <tr style=\"text-align: right;\">\n",
       "      <th></th>\n",
       "      <th>ml_generate_embedding_result</th>\n",
       "      <th>ml_generate_embedding_statistics</th>\n",
       "      <th>ml_generate_embedding_status</th>\n",
       "      <th>show_id</th>\n",
       "      <th>title</th>\n",
       "      <th>content</th>\n",
       "    </tr>\n",
       "  </thead>\n",
       "  <tbody>\n",
       "    <tr>\n",
       "      <th>0</th>\n",
       "      <td>[-0.038169655948877335, -0.019176844507455826,...</td>\n",
       "      <td>{\"token_count\":1,\"truncated\":false}</td>\n",
       "      <td></td>\n",
       "      <td>s1945</td>\n",
       "      <td>Mann</td>\n",
       "      <td>Mann</td>\n",
       "    </tr>\n",
       "    <tr>\n",
       "      <th>1</th>\n",
       "      <td>[-0.014502783305943012, -0.05777623504400253, ...</td>\n",
       "      <td>{\"token_count\":1,\"truncated\":false}</td>\n",
       "      <td></td>\n",
       "      <td>s1065</td>\n",
       "      <td>Signal</td>\n",
       "      <td>Signal</td>\n",
       "    </tr>\n",
       "    <tr>\n",
       "      <th>2</th>\n",
       "      <td>[-0.015388846397399902, -0.008072860538959503,...</td>\n",
       "      <td>{\"token_count\":1,\"truncated\":false}</td>\n",
       "      <td></td>\n",
       "      <td>s2822</td>\n",
       "      <td>Kingdom</td>\n",
       "      <td>Kingdom</td>\n",
       "    </tr>\n",
       "    <tr>\n",
       "      <th>3</th>\n",
       "      <td>[-0.03709067404270172, 0.020973458886146545, -...</td>\n",
       "      <td>{\"token_count\":1,\"truncated\":false}</td>\n",
       "      <td></td>\n",
       "      <td>s8090</td>\n",
       "      <td>Stephanie</td>\n",
       "      <td>Stephanie</td>\n",
       "    </tr>\n",
       "    <tr>\n",
       "      <th>4</th>\n",
       "      <td>[-0.06244494765996933, -0.060874972492456436, ...</td>\n",
       "      <td>{\"token_count\":1,\"truncated\":false}</td>\n",
       "      <td></td>\n",
       "      <td>s2717</td>\n",
       "      <td>Brothers</td>\n",
       "      <td>Brothers</td>\n",
       "    </tr>\n",
       "    <tr>\n",
       "      <th>5</th>\n",
       "      <td>[-0.05633598193526268, -0.007020583376288414, ...</td>\n",
       "      <td>{\"token_count\":1,\"truncated\":false}</td>\n",
       "      <td></td>\n",
       "      <td>s3798</td>\n",
       "      <td>Joy</td>\n",
       "      <td>Joy</td>\n",
       "    </tr>\n",
       "    <tr>\n",
       "      <th>6</th>\n",
       "      <td>[-0.03794030472636223, -0.018821218982338905, ...</td>\n",
       "      <td>{\"token_count\":1,\"truncated\":false}</td>\n",
       "      <td></td>\n",
       "      <td>s6549</td>\n",
       "      <td>Dad</td>\n",
       "      <td>Dad</td>\n",
       "    </tr>\n",
       "    <tr>\n",
       "      <th>7</th>\n",
       "      <td>[-0.06568083167076111, -0.00973602756857872, 0...</td>\n",
       "      <td>{\"token_count\":1,\"truncated\":false}</td>\n",
       "      <td></td>\n",
       "      <td>s2755</td>\n",
       "      <td>Greater</td>\n",
       "      <td>Greater</td>\n",
       "    </tr>\n",
       "    <tr>\n",
       "      <th>8</th>\n",
       "      <td>[-0.056740060448646545, -0.03770735114812851, ...</td>\n",
       "      <td>{\"token_count\":1,\"truncated\":false}</td>\n",
       "      <td></td>\n",
       "      <td>s5389</td>\n",
       "      <td>46</td>\n",
       "      <td>46</td>\n",
       "    </tr>\n",
       "    <tr>\n",
       "      <th>9</th>\n",
       "      <td>[-0.04382584989070892, 0.0012018682900816202, ...</td>\n",
       "      <td>{\"token_count\":1,\"truncated\":false}</td>\n",
       "      <td></td>\n",
       "      <td>s7140</td>\n",
       "      <td>Jonathan</td>\n",
       "      <td>Jonathan</td>\n",
       "    </tr>\n",
       "  </tbody>\n",
       "</table>\n",
       "</div>"
      ],
      "text/plain": [
       "                        ml_generate_embedding_result  \\\n",
       "0  [-0.038169655948877335, -0.019176844507455826,...   \n",
       "1  [-0.014502783305943012, -0.05777623504400253, ...   \n",
       "2  [-0.015388846397399902, -0.008072860538959503,...   \n",
       "3  [-0.03709067404270172, 0.020973458886146545, -...   \n",
       "4  [-0.06244494765996933, -0.060874972492456436, ...   \n",
       "5  [-0.05633598193526268, -0.007020583376288414, ...   \n",
       "6  [-0.03794030472636223, -0.018821218982338905, ...   \n",
       "7  [-0.06568083167076111, -0.00973602756857872, 0...   \n",
       "8  [-0.056740060448646545, -0.03770735114812851, ...   \n",
       "9  [-0.04382584989070892, 0.0012018682900816202, ...   \n",
       "\n",
       "      ml_generate_embedding_statistics ml_generate_embedding_status show_id  \\\n",
       "0  {\"token_count\":1,\"truncated\":false}                                s1945   \n",
       "1  {\"token_count\":1,\"truncated\":false}                                s1065   \n",
       "2  {\"token_count\":1,\"truncated\":false}                                s2822   \n",
       "3  {\"token_count\":1,\"truncated\":false}                                s8090   \n",
       "4  {\"token_count\":1,\"truncated\":false}                                s2717   \n",
       "5  {\"token_count\":1,\"truncated\":false}                                s3798   \n",
       "6  {\"token_count\":1,\"truncated\":false}                                s6549   \n",
       "7  {\"token_count\":1,\"truncated\":false}                                s2755   \n",
       "8  {\"token_count\":1,\"truncated\":false}                                s5389   \n",
       "9  {\"token_count\":1,\"truncated\":false}                                s7140   \n",
       "\n",
       "       title    content  \n",
       "0       Mann       Mann  \n",
       "1     Signal     Signal  \n",
       "2    Kingdom    Kingdom  \n",
       "3  Stephanie  Stephanie  \n",
       "4   Brothers   Brothers  \n",
       "5        Joy        Joy  \n",
       "6        Dad        Dad  \n",
       "7    Greater    Greater  \n",
       "8         46         46  \n",
       "9   Jonathan   Jonathan  "
      ]
     },
     "execution_count": 10,
     "metadata": {},
     "output_type": "execute_result"
    }
   ],
   "source": [
    "%%bigquery --location=us-central1\n",
    "SELECT *\n",
    "FROM fin_movies_entertainment.temp_embeddings\n",
    "LIMIT 10;\n"
   ]
  },
  {
   "cell_type": "markdown",
   "metadata": {},
   "source": [
    "### Step 6: Final Embeddings Table\n",
    "\n",
    "We copy only the relevant columns (title, show_id, embedding) from the temp table into a final clean table. This table will be used for distance calculations.\n"
   ]
  },
  {
   "cell_type": "code",
   "execution_count": 11,
   "metadata": {},
   "outputs": [
    {
     "data": {
      "application/vnd.jupyter.widget-view+json": {
       "model_id": "b312fa28e08444d189852ded89b3abb9",
       "version_major": 2,
       "version_minor": 0
      },
      "text/plain": [
       "Query is running:   0%|          |"
      ]
     },
     "metadata": {},
     "output_type": "display_data"
    },
    {
     "data": {
      "text/html": [
       "<div>\n",
       "<style scoped>\n",
       "    .dataframe tbody tr th:only-of-type {\n",
       "        vertical-align: middle;\n",
       "    }\n",
       "\n",
       "    .dataframe tbody tr th {\n",
       "        vertical-align: top;\n",
       "    }\n",
       "\n",
       "    .dataframe thead th {\n",
       "        text-align: right;\n",
       "    }\n",
       "</style>\n",
       "<table border=\"1\" class=\"dataframe\">\n",
       "  <thead>\n",
       "    <tr style=\"text-align: right;\">\n",
       "      <th></th>\n",
       "    </tr>\n",
       "  </thead>\n",
       "  <tbody>\n",
       "  </tbody>\n",
       "</table>\n",
       "</div>"
      ],
      "text/plain": [
       "Empty DataFrame\n",
       "Columns: []\n",
       "Index: []"
      ]
     },
     "execution_count": 11,
     "metadata": {},
     "output_type": "execute_result"
    }
   ],
   "source": [
    "%%bigquery --location=us-central1\n",
    "CREATE OR REPLACE TABLE fin_movies_entertainment.embeddings AS\n",
    "SELECT\n",
    "  show_id,\n",
    "  title,\n",
    "  ml_generate_embedding_result AS embedding\n",
    "FROM fin_movies_entertainment.temp_embeddings;\n"
   ]
  },
  {
   "cell_type": "code",
   "execution_count": 12,
   "metadata": {},
   "outputs": [
    {
     "data": {
      "application/vnd.jupyter.widget-view+json": {
       "model_id": "599e55b10a5e4c9a95900df05036ccf3",
       "version_major": 2,
       "version_minor": 0
      },
      "text/plain": [
       "Query is running:   0%|          |"
      ]
     },
     "metadata": {},
     "output_type": "display_data"
    },
    {
     "data": {
      "text/html": [
       "<div>\n",
       "<style scoped>\n",
       "    .dataframe tbody tr th:only-of-type {\n",
       "        vertical-align: middle;\n",
       "    }\n",
       "\n",
       "    .dataframe tbody tr th {\n",
       "        vertical-align: top;\n",
       "    }\n",
       "\n",
       "    .dataframe thead th {\n",
       "        text-align: right;\n",
       "    }\n",
       "</style>\n",
       "<table border=\"1\" class=\"dataframe\">\n",
       "  <thead>\n",
       "    <tr style=\"text-align: right;\">\n",
       "      <th></th>\n",
       "    </tr>\n",
       "  </thead>\n",
       "  <tbody>\n",
       "  </tbody>\n",
       "</table>\n",
       "</div>"
      ],
      "text/plain": [
       "Empty DataFrame\n",
       "Columns: []\n",
       "Index: []"
      ]
     },
     "execution_count": 12,
     "metadata": {},
     "output_type": "execute_result"
    }
   ],
   "source": [
    "%%bigquery --location=us-central1\n",
    "CREATE OR REPLACE TABLE fin_movies_entertainment.embeddings_flattened AS\n",
    "SELECT\n",
    "  show_id,\n",
    "  title,\n",
    "  dim_value,\n",
    "  dim_index\n",
    "FROM fin_movies_entertainment.embeddings,\n",
    "UNNEST(embedding) AS dim_value WITH OFFSET AS dim_index;\n"
   ]
  },
  {
   "cell_type": "markdown",
   "metadata": {},
   "source": [
    "### Step 7: Preview Embedding Output\n",
    "\n",
    "We preview the first few rows of the generated embeddings to ensure they were created successfully.\n"
   ]
  },
  {
   "cell_type": "code",
   "execution_count": 19,
   "metadata": {},
   "outputs": [
    {
     "data": {
      "application/vnd.jupyter.widget-view+json": {
       "model_id": "32b10808075141e6b9073b26150dc4aa",
       "version_major": 2,
       "version_minor": 0
      },
      "text/plain": [
       "Query is running:   0%|          |"
      ]
     },
     "metadata": {},
     "output_type": "display_data"
    },
    {
     "data": {
      "text/html": [
       "<div>\n",
       "<style scoped>\n",
       "    .dataframe tbody tr th:only-of-type {\n",
       "        vertical-align: middle;\n",
       "    }\n",
       "\n",
       "    .dataframe tbody tr th {\n",
       "        vertical-align: top;\n",
       "    }\n",
       "\n",
       "    .dataframe thead th {\n",
       "        text-align: right;\n",
       "    }\n",
       "</style>\n",
       "<table border=\"1\" class=\"dataframe\">\n",
       "  <thead>\n",
       "    <tr style=\"text-align: right;\">\n",
       "      <th></th>\n",
       "    </tr>\n",
       "  </thead>\n",
       "  <tbody>\n",
       "  </tbody>\n",
       "</table>\n",
       "</div>"
      ],
      "text/plain": [
       "Empty DataFrame\n",
       "Columns: []\n",
       "Index: []"
      ]
     },
     "execution_count": 19,
     "metadata": {},
     "output_type": "execute_result"
    }
   ],
   "source": [
    "%%bigquery --location=us-central1\n",
    "CREATE OR REPLACE TABLE fin_movies_entertainment.embedding_distances AS\n",
    "WITH base AS (\n",
    "  SELECT * \n",
    "  FROM fin_movies_entertainment.embeddings\n",
    "  LIMIT 300  \n",
    "),\n",
    "pairs AS (\n",
    "  SELECT\n",
    "    a.show_id AS show_id_1,\n",
    "    a.title AS title_1,\n",
    "    b.show_id AS show_id_2,\n",
    "    b.title AS title_2,\n",
    "    SQRT(SUM(POW(a.embedding[i] - b.embedding[i], 2))) AS euclidean_distance\n",
    "  FROM base a\n",
    "  JOIN base b\n",
    "  ON a.show_id != b.show_id\n",
    "  CROSS JOIN UNNEST(GENERATE_ARRAY(0, ARRAY_LENGTH(a.embedding)-1)) AS i\n",
    "  GROUP BY show_id_1, title_1, show_id_2, title_2\n",
    ")\n",
    "SELECT * FROM pairs\n",
    "WHERE euclidean_distance < 1.0 \n",
    "ORDER BY euclidean_distance ASC;\n",
    "\n"
   ]
  },
  {
   "cell_type": "code",
   "execution_count": 20,
   "metadata": {},
   "outputs": [
    {
     "data": {
      "application/vnd.jupyter.widget-view+json": {
       "model_id": "a2a09d1194d2414bab3b81b1a8c49924",
       "version_major": 2,
       "version_minor": 0
      },
      "text/plain": [
       "Query is running:   0%|          |"
      ]
     },
     "metadata": {},
     "output_type": "display_data"
    },
    {
     "data": {
      "text/html": [
       "<div>\n",
       "<style scoped>\n",
       "    .dataframe tbody tr th:only-of-type {\n",
       "        vertical-align: middle;\n",
       "    }\n",
       "\n",
       "    .dataframe tbody tr th {\n",
       "        vertical-align: top;\n",
       "    }\n",
       "\n",
       "    .dataframe thead th {\n",
       "        text-align: right;\n",
       "    }\n",
       "</style>\n",
       "<table border=\"1\" class=\"dataframe\">\n",
       "  <thead>\n",
       "    <tr style=\"text-align: right;\">\n",
       "      <th></th>\n",
       "    </tr>\n",
       "  </thead>\n",
       "  <tbody>\n",
       "  </tbody>\n",
       "</table>\n",
       "</div>"
      ],
      "text/plain": [
       "Empty DataFrame\n",
       "Columns: []\n",
       "Index: []"
      ]
     },
     "execution_count": 20,
     "metadata": {},
     "output_type": "execute_result"
    }
   ],
   "source": [
    "%%bigquery --location=us-central1\n",
    "\n",
    "CREATE OR REPLACE TABLE fin_movies_entertainment.embedding_sample AS\n",
    "SELECT *\n",
    "FROM fin_movies_entertainment.embeddings\n",
    "LIMIT 300;\n",
    "\n"
   ]
  },
  {
   "cell_type": "markdown",
   "metadata": {},
   "source": [
    "### Step 8: Compute Pairwise Embedding Distances\n",
    "\n",
    "We compute the **Euclidean distance** between each pair of titles. Only pairs with `distance < 1.0` are retained as “similar enough” — these will be our fuzzy matches.\n",
    "\n",
    "Note: We limit the dataset here to avoid BigQuery CPU quota errors.\n"
   ]
  },
  {
   "cell_type": "code",
   "execution_count": 15,
   "metadata": {},
   "outputs": [
    {
     "data": {
      "application/vnd.jupyter.widget-view+json": {
       "model_id": "5cfa9fe99b7b433a8cc679e01ec48746",
       "version_major": 2,
       "version_minor": 0
      },
      "text/plain": [
       "Query is running:   0%|          |"
      ]
     },
     "metadata": {},
     "output_type": "display_data"
    },
    {
     "data": {
      "text/html": [
       "<div>\n",
       "<style scoped>\n",
       "    .dataframe tbody tr th:only-of-type {\n",
       "        vertical-align: middle;\n",
       "    }\n",
       "\n",
       "    .dataframe tbody tr th {\n",
       "        vertical-align: top;\n",
       "    }\n",
       "\n",
       "    .dataframe thead th {\n",
       "        text-align: right;\n",
       "    }\n",
       "</style>\n",
       "<table border=\"1\" class=\"dataframe\">\n",
       "  <thead>\n",
       "    <tr style=\"text-align: right;\">\n",
       "      <th></th>\n",
       "    </tr>\n",
       "  </thead>\n",
       "  <tbody>\n",
       "  </tbody>\n",
       "</table>\n",
       "</div>"
      ],
      "text/plain": [
       "Empty DataFrame\n",
       "Columns: []\n",
       "Index: []"
      ]
     },
     "execution_count": 15,
     "metadata": {},
     "output_type": "execute_result"
    }
   ],
   "source": [
    "%%bigquery --location=us-central1\n",
    "\n",
    "CREATE OR REPLACE TABLE fin_movies_entertainment.embedding_distances AS\n",
    "SELECT\n",
    "  A.show_id AS show_id_1,\n",
    "  A.title AS title_1,\n",
    "  B.show_id AS show_id_2,\n",
    "  B.title AS title_2,\n",
    "  SQRT(SUM(POW(A.embedding[i] - B.embedding[i], 2))) AS euclidean_distance\n",
    "FROM\n",
    "  fin_movies_entertainment.embedding_sample A,\n",
    "  fin_movies_entertainment.embedding_sample B,\n",
    "  UNNEST(GENERATE_ARRAY(0, ARRAY_LENGTH(A.embedding) - 1)) AS i\n",
    "WHERE\n",
    "  A.show_id < B.show_id\n",
    "GROUP BY\n",
    "  show_id_1, title_1, show_id_2, title_2\n",
    "HAVING\n",
    "  euclidean_distance < 1.0;\n"
   ]
  },
  {
   "cell_type": "markdown",
   "metadata": {},
   "source": [
    "### Step 9: View Fuzzy Matched Titles\n",
    "\n",
    "This final table shows pairs of movie titles that were detected as close matches based on vector similarity. These results can be used to deduplicate, standardize, or enrich metadata downstream.\n"
   ]
  },
  {
   "cell_type": "code",
   "execution_count": 21,
   "metadata": {},
   "outputs": [
    {
     "data": {
      "application/vnd.jupyter.widget-view+json": {
       "model_id": "8b20d88b5bb6456987462c33f2f1aaf2",
       "version_major": 2,
       "version_minor": 0
      },
      "text/plain": [
       "Query is running:   0%|          |"
      ]
     },
     "metadata": {},
     "output_type": "display_data"
    },
    {
     "data": {
      "application/vnd.jupyter.widget-view+json": {
       "model_id": "8dfc2567ddf54e75a0543a5f0917b6a7",
       "version_major": 2,
       "version_minor": 0
      },
      "text/plain": [
       "Downloading:   0%|          |"
      ]
     },
     "metadata": {},
     "output_type": "display_data"
    },
    {
     "data": {
      "text/html": [
       "<div>\n",
       "<style scoped>\n",
       "    .dataframe tbody tr th:only-of-type {\n",
       "        vertical-align: middle;\n",
       "    }\n",
       "\n",
       "    .dataframe tbody tr th {\n",
       "        vertical-align: top;\n",
       "    }\n",
       "\n",
       "    .dataframe thead th {\n",
       "        text-align: right;\n",
       "    }\n",
       "</style>\n",
       "<table border=\"1\" class=\"dataframe\">\n",
       "  <thead>\n",
       "    <tr style=\"text-align: right;\">\n",
       "      <th></th>\n",
       "      <th>show_id_1</th>\n",
       "      <th>title_1</th>\n",
       "      <th>show_id_2</th>\n",
       "      <th>title_2</th>\n",
       "      <th>euclidean_distance</th>\n",
       "    </tr>\n",
       "  </thead>\n",
       "  <tbody>\n",
       "    <tr>\n",
       "      <th>0</th>\n",
       "      <td>s5965</td>\n",
       "      <td>9-Feb</td>\n",
       "      <td>s3997</td>\n",
       "      <td>9-Feb</td>\n",
       "      <td>0.000000</td>\n",
       "    </tr>\n",
       "    <tr>\n",
       "      <th>1</th>\n",
       "      <td>s4523</td>\n",
       "      <td>22-Jul</td>\n",
       "      <td>s5966</td>\n",
       "      <td>22-Jul</td>\n",
       "      <td>0.000000</td>\n",
       "    </tr>\n",
       "    <tr>\n",
       "      <th>2</th>\n",
       "      <td>s5966</td>\n",
       "      <td>22-Jul</td>\n",
       "      <td>s4523</td>\n",
       "      <td>22-Jul</td>\n",
       "      <td>0.000000</td>\n",
       "    </tr>\n",
       "    <tr>\n",
       "      <th>3</th>\n",
       "      <td>s3963</td>\n",
       "      <td>15-Aug</td>\n",
       "      <td>s5967</td>\n",
       "      <td>15-Aug</td>\n",
       "      <td>0.000000</td>\n",
       "    </tr>\n",
       "    <tr>\n",
       "      <th>4</th>\n",
       "      <td>s5967</td>\n",
       "      <td>15-Aug</td>\n",
       "      <td>s3963</td>\n",
       "      <td>15-Aug</td>\n",
       "      <td>0.000000</td>\n",
       "    </tr>\n",
       "    <tr>\n",
       "      <th>5</th>\n",
       "      <td>s3997</td>\n",
       "      <td>9-Feb</td>\n",
       "      <td>s5965</td>\n",
       "      <td>9-Feb</td>\n",
       "      <td>0.000000</td>\n",
       "    </tr>\n",
       "    <tr>\n",
       "      <th>6</th>\n",
       "      <td>s4069</td>\n",
       "      <td>A Second Chance</td>\n",
       "      <td>s5390</td>\n",
       "      <td>A 2nd Chance</td>\n",
       "      <td>0.225115</td>\n",
       "    </tr>\n",
       "    <tr>\n",
       "      <th>7</th>\n",
       "      <td>s5390</td>\n",
       "      <td>A 2nd Chance</td>\n",
       "      <td>s4069</td>\n",
       "      <td>A Second Chance</td>\n",
       "      <td>0.225115</td>\n",
       "    </tr>\n",
       "    <tr>\n",
       "      <th>8</th>\n",
       "      <td>s852</td>\n",
       "      <td>99 Songs (Tamil)</td>\n",
       "      <td>s853</td>\n",
       "      <td>99 Songs (Telugu)</td>\n",
       "      <td>0.380787</td>\n",
       "    </tr>\n",
       "    <tr>\n",
       "      <th>9</th>\n",
       "      <td>s853</td>\n",
       "      <td>99 Songs (Telugu)</td>\n",
       "      <td>s852</td>\n",
       "      <td>99 Songs (Tamil)</td>\n",
       "      <td>0.380787</td>\n",
       "    </tr>\n",
       "    <tr>\n",
       "      <th>10</th>\n",
       "      <td>s2482</td>\n",
       "      <td>#FriendButMarried</td>\n",
       "      <td>s2325</td>\n",
       "      <td>#FriendButMarried 2</td>\n",
       "      <td>0.386182</td>\n",
       "    </tr>\n",
       "    <tr>\n",
       "      <th>11</th>\n",
       "      <td>s2325</td>\n",
       "      <td>#FriendButMarried 2</td>\n",
       "      <td>s2482</td>\n",
       "      <td>#FriendButMarried</td>\n",
       "      <td>0.386182</td>\n",
       "    </tr>\n",
       "    <tr>\n",
       "      <th>12</th>\n",
       "      <td>s5992</td>\n",
       "      <td>14 Cameras</td>\n",
       "      <td>s5988</td>\n",
       "      <td>13 Cameras</td>\n",
       "      <td>0.405773</td>\n",
       "    </tr>\n",
       "    <tr>\n",
       "      <th>13</th>\n",
       "      <td>s5988</td>\n",
       "      <td>13 Cameras</td>\n",
       "      <td>s5992</td>\n",
       "      <td>14 Cameras</td>\n",
       "      <td>0.405773</td>\n",
       "    </tr>\n",
       "    <tr>\n",
       "      <th>14</th>\n",
       "      <td>s2418</td>\n",
       "      <td>13 Reasons Why</td>\n",
       "      <td>s3562</td>\n",
       "      <td>13 Reasons Why: Beyond the Reasons</td>\n",
       "      <td>0.449802</td>\n",
       "    </tr>\n",
       "    <tr>\n",
       "      <th>15</th>\n",
       "      <td>s3562</td>\n",
       "      <td>13 Reasons Why: Beyond the Reasons</td>\n",
       "      <td>s2418</td>\n",
       "      <td>13 Reasons Why</td>\n",
       "      <td>0.449802</td>\n",
       "    </tr>\n",
       "    <tr>\n",
       "      <th>16</th>\n",
       "      <td>s5967</td>\n",
       "      <td>15-Aug</td>\n",
       "      <td>s4523</td>\n",
       "      <td>22-Jul</td>\n",
       "      <td>0.474377</td>\n",
       "    </tr>\n",
       "    <tr>\n",
       "      <th>17</th>\n",
       "      <td>s4523</td>\n",
       "      <td>22-Jul</td>\n",
       "      <td>s5967</td>\n",
       "      <td>15-Aug</td>\n",
       "      <td>0.474377</td>\n",
       "    </tr>\n",
       "    <tr>\n",
       "      <th>18</th>\n",
       "      <td>s5967</td>\n",
       "      <td>15-Aug</td>\n",
       "      <td>s5966</td>\n",
       "      <td>22-Jul</td>\n",
       "      <td>0.474377</td>\n",
       "    </tr>\n",
       "    <tr>\n",
       "      <th>19</th>\n",
       "      <td>s3963</td>\n",
       "      <td>15-Aug</td>\n",
       "      <td>s4523</td>\n",
       "      <td>22-Jul</td>\n",
       "      <td>0.474377</td>\n",
       "    </tr>\n",
       "    <tr>\n",
       "      <th>20</th>\n",
       "      <td>s3963</td>\n",
       "      <td>15-Aug</td>\n",
       "      <td>s5966</td>\n",
       "      <td>22-Jul</td>\n",
       "      <td>0.474377</td>\n",
       "    </tr>\n",
       "    <tr>\n",
       "      <th>21</th>\n",
       "      <td>s5966</td>\n",
       "      <td>22-Jul</td>\n",
       "      <td>s3963</td>\n",
       "      <td>15-Aug</td>\n",
       "      <td>0.474377</td>\n",
       "    </tr>\n",
       "    <tr>\n",
       "      <th>22</th>\n",
       "      <td>s4523</td>\n",
       "      <td>22-Jul</td>\n",
       "      <td>s3963</td>\n",
       "      <td>15-Aug</td>\n",
       "      <td>0.474377</td>\n",
       "    </tr>\n",
       "    <tr>\n",
       "      <th>23</th>\n",
       "      <td>s5966</td>\n",
       "      <td>22-Jul</td>\n",
       "      <td>s5967</td>\n",
       "      <td>15-Aug</td>\n",
       "      <td>0.474377</td>\n",
       "    </tr>\n",
       "    <tr>\n",
       "      <th>24</th>\n",
       "      <td>s5164</td>\n",
       "      <td>A Christmas Prince</td>\n",
       "      <td>s3181</td>\n",
       "      <td>A Christmas Prince: The Royal Baby</td>\n",
       "      <td>0.475005</td>\n",
       "    </tr>\n",
       "    <tr>\n",
       "      <th>25</th>\n",
       "      <td>s3181</td>\n",
       "      <td>A Christmas Prince: The Royal Baby</td>\n",
       "      <td>s5164</td>\n",
       "      <td>A Christmas Prince</td>\n",
       "      <td>0.475005</td>\n",
       "    </tr>\n",
       "    <tr>\n",
       "      <th>26</th>\n",
       "      <td>s3181</td>\n",
       "      <td>A Christmas Prince: The Royal Baby</td>\n",
       "      <td>s4352</td>\n",
       "      <td>A Christmas Prince: The Royal Wedding</td>\n",
       "      <td>0.478604</td>\n",
       "    </tr>\n",
       "    <tr>\n",
       "      <th>27</th>\n",
       "      <td>s4352</td>\n",
       "      <td>A Christmas Prince: The Royal Wedding</td>\n",
       "      <td>s3181</td>\n",
       "      <td>A Christmas Prince: The Royal Baby</td>\n",
       "      <td>0.478604</td>\n",
       "    </tr>\n",
       "    <tr>\n",
       "      <th>28</th>\n",
       "      <td>s5963</td>\n",
       "      <td>1920</td>\n",
       "      <td>s5208</td>\n",
       "      <td>1922</td>\n",
       "      <td>0.494740</td>\n",
       "    </tr>\n",
       "    <tr>\n",
       "      <th>29</th>\n",
       "      <td>s5208</td>\n",
       "      <td>1922</td>\n",
       "      <td>s5963</td>\n",
       "      <td>1920</td>\n",
       "      <td>0.494740</td>\n",
       "    </tr>\n",
       "    <tr>\n",
       "      <th>30</th>\n",
       "      <td>s4352</td>\n",
       "      <td>A Christmas Prince: The Royal Wedding</td>\n",
       "      <td>s5164</td>\n",
       "      <td>A Christmas Prince</td>\n",
       "      <td>0.516487</td>\n",
       "    </tr>\n",
       "    <tr>\n",
       "      <th>31</th>\n",
       "      <td>s5164</td>\n",
       "      <td>A Christmas Prince</td>\n",
       "      <td>s4352</td>\n",
       "      <td>A Christmas Prince: The Royal Wedding</td>\n",
       "      <td>0.516487</td>\n",
       "    </tr>\n",
       "    <tr>\n",
       "      <th>32</th>\n",
       "      <td>s128</td>\n",
       "      <td>A Cinderella Story</td>\n",
       "      <td>s3189</td>\n",
       "      <td>A Cinderella Story: Christmas Wish</td>\n",
       "      <td>0.535839</td>\n",
       "    </tr>\n",
       "    <tr>\n",
       "      <th>33</th>\n",
       "      <td>s3189</td>\n",
       "      <td>A Cinderella Story: Christmas Wish</td>\n",
       "      <td>s128</td>\n",
       "      <td>A Cinderella Story</td>\n",
       "      <td>0.535839</td>\n",
       "    </tr>\n",
       "    <tr>\n",
       "      <th>34</th>\n",
       "      <td>s6040</td>\n",
       "      <td>A Haunted House</td>\n",
       "      <td>s741</td>\n",
       "      <td>A Haunted House 2</td>\n",
       "      <td>0.537451</td>\n",
       "    </tr>\n",
       "    <tr>\n",
       "      <th>35</th>\n",
       "      <td>s741</td>\n",
       "      <td>A Haunted House 2</td>\n",
       "      <td>s6040</td>\n",
       "      <td>A Haunted House</td>\n",
       "      <td>0.537451</td>\n",
       "    </tr>\n",
       "    <tr>\n",
       "      <th>36</th>\n",
       "      <td>s852</td>\n",
       "      <td>99 Songs (Tamil)</td>\n",
       "      <td>s851</td>\n",
       "      <td>99 Songs</td>\n",
       "      <td>0.538129</td>\n",
       "    </tr>\n",
       "    <tr>\n",
       "      <th>37</th>\n",
       "      <td>s851</td>\n",
       "      <td>99 Songs</td>\n",
       "      <td>s852</td>\n",
       "      <td>99 Songs (Tamil)</td>\n",
       "      <td>0.538129</td>\n",
       "    </tr>\n",
       "    <tr>\n",
       "      <th>38</th>\n",
       "      <td>s6054</td>\n",
       "      <td>A Princess for Christmas</td>\n",
       "      <td>s5164</td>\n",
       "      <td>A Christmas Prince</td>\n",
       "      <td>0.538658</td>\n",
       "    </tr>\n",
       "    <tr>\n",
       "      <th>39</th>\n",
       "      <td>s5164</td>\n",
       "      <td>A Christmas Prince</td>\n",
       "      <td>s6054</td>\n",
       "      <td>A Princess for Christmas</td>\n",
       "      <td>0.538658</td>\n",
       "    </tr>\n",
       "    <tr>\n",
       "      <th>40</th>\n",
       "      <td>s1636</td>\n",
       "      <td>A Go! Go! Cory Carson Christmas</td>\n",
       "      <td>s1893</td>\n",
       "      <td>A Go! Go! Cory Carson Halloween</td>\n",
       "      <td>0.551231</td>\n",
       "    </tr>\n",
       "    <tr>\n",
       "      <th>41</th>\n",
       "      <td>s1893</td>\n",
       "      <td>A Go! Go! Cory Carson Halloween</td>\n",
       "      <td>s1636</td>\n",
       "      <td>A Go! Go! Cory Carson Christmas</td>\n",
       "      <td>0.551231</td>\n",
       "    </tr>\n",
       "    <tr>\n",
       "      <th>42</th>\n",
       "      <td>s851</td>\n",
       "      <td>99 Songs</td>\n",
       "      <td>s853</td>\n",
       "      <td>99 Songs (Telugu)</td>\n",
       "      <td>0.553630</td>\n",
       "    </tr>\n",
       "    <tr>\n",
       "      <th>43</th>\n",
       "      <td>s853</td>\n",
       "      <td>99 Songs (Telugu)</td>\n",
       "      <td>s851</td>\n",
       "      <td>99 Songs</td>\n",
       "      <td>0.553630</td>\n",
       "    </tr>\n",
       "    <tr>\n",
       "      <th>44</th>\n",
       "      <td>s2306</td>\n",
       "      <td>21 Again</td>\n",
       "      <td>s5994</td>\n",
       "      <td>17 Again</td>\n",
       "      <td>0.558025</td>\n",
       "    </tr>\n",
       "    <tr>\n",
       "      <th>45</th>\n",
       "      <td>s5994</td>\n",
       "      <td>17 Again</td>\n",
       "      <td>s2306</td>\n",
       "      <td>21 Again</td>\n",
       "      <td>0.558025</td>\n",
       "    </tr>\n",
       "    <tr>\n",
       "      <th>46</th>\n",
       "      <td>s655</td>\n",
       "      <td>#Selfie</td>\n",
       "      <td>s656</td>\n",
       "      <td>#Selfie 69</td>\n",
       "      <td>0.583505</td>\n",
       "    </tr>\n",
       "    <tr>\n",
       "      <th>47</th>\n",
       "      <td>s656</td>\n",
       "      <td>#Selfie 69</td>\n",
       "      <td>s655</td>\n",
       "      <td>#Selfie</td>\n",
       "      <td>0.583505</td>\n",
       "    </tr>\n",
       "    <tr>\n",
       "      <th>48</th>\n",
       "      <td>s684</td>\n",
       "      <td>A Family</td>\n",
       "      <td>s6035</td>\n",
       "      <td>A Family Man</td>\n",
       "      <td>0.604575</td>\n",
       "    </tr>\n",
       "    <tr>\n",
       "      <th>49</th>\n",
       "      <td>s6035</td>\n",
       "      <td>A Family Man</td>\n",
       "      <td>s684</td>\n",
       "      <td>A Family</td>\n",
       "      <td>0.604575</td>\n",
       "    </tr>\n",
       "  </tbody>\n",
       "</table>\n",
       "</div>"
      ],
      "text/plain": [
       "   show_id_1                                title_1 show_id_2  \\\n",
       "0      s5965                                  9-Feb     s3997   \n",
       "1      s4523                                 22-Jul     s5966   \n",
       "2      s5966                                 22-Jul     s4523   \n",
       "3      s3963                                 15-Aug     s5967   \n",
       "4      s5967                                 15-Aug     s3963   \n",
       "5      s3997                                  9-Feb     s5965   \n",
       "6      s4069                        A Second Chance     s5390   \n",
       "7      s5390                           A 2nd Chance     s4069   \n",
       "8       s852                       99 Songs (Tamil)      s853   \n",
       "9       s853                      99 Songs (Telugu)      s852   \n",
       "10     s2482                      #FriendButMarried     s2325   \n",
       "11     s2325                    #FriendButMarried 2     s2482   \n",
       "12     s5992                             14 Cameras     s5988   \n",
       "13     s5988                             13 Cameras     s5992   \n",
       "14     s2418                         13 Reasons Why     s3562   \n",
       "15     s3562     13 Reasons Why: Beyond the Reasons     s2418   \n",
       "16     s5967                                 15-Aug     s4523   \n",
       "17     s4523                                 22-Jul     s5967   \n",
       "18     s5967                                 15-Aug     s5966   \n",
       "19     s3963                                 15-Aug     s4523   \n",
       "20     s3963                                 15-Aug     s5966   \n",
       "21     s5966                                 22-Jul     s3963   \n",
       "22     s4523                                 22-Jul     s3963   \n",
       "23     s5966                                 22-Jul     s5967   \n",
       "24     s5164                     A Christmas Prince     s3181   \n",
       "25     s3181     A Christmas Prince: The Royal Baby     s5164   \n",
       "26     s3181     A Christmas Prince: The Royal Baby     s4352   \n",
       "27     s4352  A Christmas Prince: The Royal Wedding     s3181   \n",
       "28     s5963                                   1920     s5208   \n",
       "29     s5208                                   1922     s5963   \n",
       "30     s4352  A Christmas Prince: The Royal Wedding     s5164   \n",
       "31     s5164                     A Christmas Prince     s4352   \n",
       "32      s128                     A Cinderella Story     s3189   \n",
       "33     s3189     A Cinderella Story: Christmas Wish      s128   \n",
       "34     s6040                        A Haunted House      s741   \n",
       "35      s741                      A Haunted House 2     s6040   \n",
       "36      s852                       99 Songs (Tamil)      s851   \n",
       "37      s851                               99 Songs      s852   \n",
       "38     s6054               A Princess for Christmas     s5164   \n",
       "39     s5164                     A Christmas Prince     s6054   \n",
       "40     s1636        A Go! Go! Cory Carson Christmas     s1893   \n",
       "41     s1893        A Go! Go! Cory Carson Halloween     s1636   \n",
       "42      s851                               99 Songs      s853   \n",
       "43      s853                      99 Songs (Telugu)      s851   \n",
       "44     s2306                               21 Again     s5994   \n",
       "45     s5994                               17 Again     s2306   \n",
       "46      s655                                #Selfie      s656   \n",
       "47      s656                             #Selfie 69      s655   \n",
       "48      s684                               A Family     s6035   \n",
       "49     s6035                           A Family Man      s684   \n",
       "\n",
       "                                  title_2  euclidean_distance  \n",
       "0                                   9-Feb            0.000000  \n",
       "1                                  22-Jul            0.000000  \n",
       "2                                  22-Jul            0.000000  \n",
       "3                                  15-Aug            0.000000  \n",
       "4                                  15-Aug            0.000000  \n",
       "5                                   9-Feb            0.000000  \n",
       "6                            A 2nd Chance            0.225115  \n",
       "7                         A Second Chance            0.225115  \n",
       "8                       99 Songs (Telugu)            0.380787  \n",
       "9                        99 Songs (Tamil)            0.380787  \n",
       "10                    #FriendButMarried 2            0.386182  \n",
       "11                      #FriendButMarried            0.386182  \n",
       "12                             13 Cameras            0.405773  \n",
       "13                             14 Cameras            0.405773  \n",
       "14     13 Reasons Why: Beyond the Reasons            0.449802  \n",
       "15                         13 Reasons Why            0.449802  \n",
       "16                                 22-Jul            0.474377  \n",
       "17                                 15-Aug            0.474377  \n",
       "18                                 22-Jul            0.474377  \n",
       "19                                 22-Jul            0.474377  \n",
       "20                                 22-Jul            0.474377  \n",
       "21                                 15-Aug            0.474377  \n",
       "22                                 15-Aug            0.474377  \n",
       "23                                 15-Aug            0.474377  \n",
       "24     A Christmas Prince: The Royal Baby            0.475005  \n",
       "25                     A Christmas Prince            0.475005  \n",
       "26  A Christmas Prince: The Royal Wedding            0.478604  \n",
       "27     A Christmas Prince: The Royal Baby            0.478604  \n",
       "28                                   1922            0.494740  \n",
       "29                                   1920            0.494740  \n",
       "30                     A Christmas Prince            0.516487  \n",
       "31  A Christmas Prince: The Royal Wedding            0.516487  \n",
       "32     A Cinderella Story: Christmas Wish            0.535839  \n",
       "33                     A Cinderella Story            0.535839  \n",
       "34                      A Haunted House 2            0.537451  \n",
       "35                        A Haunted House            0.537451  \n",
       "36                               99 Songs            0.538129  \n",
       "37                       99 Songs (Tamil)            0.538129  \n",
       "38                     A Christmas Prince            0.538658  \n",
       "39               A Princess for Christmas            0.538658  \n",
       "40        A Go! Go! Cory Carson Halloween            0.551231  \n",
       "41        A Go! Go! Cory Carson Christmas            0.551231  \n",
       "42                      99 Songs (Telugu)            0.553630  \n",
       "43                               99 Songs            0.553630  \n",
       "44                               17 Again            0.558025  \n",
       "45                               21 Again            0.558025  \n",
       "46                             #Selfie 69            0.583505  \n",
       "47                                #Selfie            0.583505  \n",
       "48                           A Family Man            0.604575  \n",
       "49                               A Family            0.604575  "
      ]
     },
     "execution_count": 21,
     "metadata": {},
     "output_type": "execute_result"
    }
   ],
   "source": [
    "%%bigquery --location=us-central1\n",
    "\n",
    "SELECT *\n",
    "FROM fin_movies_entertainment.embedding_distances\n",
    "ORDER BY euclidean_distance ASC\n",
    "LIMIT 50;\n"
   ]
  },
  {
   "cell_type": "code",
   "execution_count": 17,
   "metadata": {},
   "outputs": [
    {
     "data": {
      "application/vnd.jupyter.widget-view+json": {
       "model_id": "1ee8dca7ca44455eb96f0c25679edc2e",
       "version_major": 2,
       "version_minor": 0
      },
      "text/plain": [
       "Query is running:   0%|          |"
      ]
     },
     "metadata": {},
     "output_type": "display_data"
    },
    {
     "data": {
      "text/html": [
       "<div>\n",
       "<style scoped>\n",
       "    .dataframe tbody tr th:only-of-type {\n",
       "        vertical-align: middle;\n",
       "    }\n",
       "\n",
       "    .dataframe tbody tr th {\n",
       "        vertical-align: top;\n",
       "    }\n",
       "\n",
       "    .dataframe thead th {\n",
       "        text-align: right;\n",
       "    }\n",
       "</style>\n",
       "<table border=\"1\" class=\"dataframe\">\n",
       "  <thead>\n",
       "    <tr style=\"text-align: right;\">\n",
       "      <th></th>\n",
       "    </tr>\n",
       "  </thead>\n",
       "  <tbody>\n",
       "  </tbody>\n",
       "</table>\n",
       "</div>"
      ],
      "text/plain": [
       "Empty DataFrame\n",
       "Columns: []\n",
       "Index: []"
      ]
     },
     "execution_count": 17,
     "metadata": {},
     "output_type": "execute_result"
    }
   ],
   "source": [
    "%%bigquery --location=us-central1\n",
    "\n",
    "CREATE OR REPLACE TABLE fin_movies_entertainment.deduplicated_titles AS\n",
    "SELECT \n",
    "  LEAST(title_1, title_2) AS canonical_title,\n",
    "  GREATEST(title_1, title_2) AS duplicate_title,\n",
    "  euclidean_distance\n",
    "FROM fin_movies_entertainment.embedding_distances\n",
    "WHERE euclidean_distance < 0.5  \n"
   ]
  },
  {
   "cell_type": "markdown",
   "metadata": {},
   "source": [
    "## Step 10: Conclusion and Reflection"
   ]
  },
  {
   "cell_type": "markdown",
   "metadata": {},
   "source": [
    "\n",
    "---\n",
    "\n",
    "### Conclusion: Embedding-Based Fuzzy Matching Summary\n",
    "\n",
    "In this project, I explored fuzzy matching using embedding vectors with BigQuery + Vertex AI.\n",
    "\n",
    "- **Input Dataset**: Titles from the Netflix Movies & TV Shows staging table (`stg_netflix_movies_and_tvshows`).\n",
    "- **Embedding Generation**: Used the `text-embedding-005` model through BigQuery ML and Vertex AI.\n",
    "- **Distance Calculation**: Used Euclidean distance to measure semantic similarity between movie titles.\n",
    "- **Deduplication Logic**: Identified pairs of titles with distances < 0.5 and mapped them to a canonical title.\n",
    "\n",
    "#### Key Insights:\n",
    "- Found logical groupings such as:\n",
    "  - `\"99 Songs (Tamil)\"` and `\"99 Songs (Telugu)\"`\n",
    "  - `\"13 Reasons Why\"` and `\"13 Reasons Why: Beyond the Reasons\"`\n",
    "  - Calendar titles like `\"22-Jul\"` and `\"15-Aug\"`\n",
    "- Embedding-based matching provided **semantic matches**, outperforming string-only approaches (like `GROUP BY` or `LIKE` filters).\n",
    "\n",
    "#### Would I use this in production?\n",
    "Yes — embeddings scale better and avoid hallucinations. I'd integrate this into an intermediate model layer for deduplication and record linkage, especially when titles are short, noisy, or inconsistently labeled.\n",
    "\n"
   ]
  },
  {
   "cell_type": "markdown",
   "metadata": {},
   "source": []
  }
 ],
 "metadata": {
  "kernelspec": {
   "display_name": "Python 3",
   "language": "python",
   "name": "python3"
  },
  "language_info": {
   "codemirror_mode": {
    "name": "ipython",
    "version": 3
   },
   "file_extension": ".py",
   "mimetype": "text/x-python",
   "name": "python",
   "nbconvert_exporter": "python",
   "pygments_lexer": "ipython3",
   "version": "3.11.4"
  }
 },
 "nbformat": 4,
 "nbformat_minor": 2
}
